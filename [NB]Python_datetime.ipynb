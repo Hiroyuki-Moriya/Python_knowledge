{
  "cells": [
    {
      "cell_type": "markdown",
      "metadata": {
        "id": "wu0vfpClfG8d"
      },
      "source": [
        "## datetime --- 基本的な日付型および時間型\n",
        "### datetime モジュール\n",
        "\n",
        "　[datetime --- 基本的な日付型および時間型](https://docs.python.org/ja/3.11/library/datetime.html?highlight=date#module-datetime)\n",
        "\n",
        "　[ソースコード: Lib/datetime.py](https://github.com/python/cpython/blob/main/Lib/datetime.py)\n",
        "\n",
        "---\n",
        "\n",
        "datetime モジュールは、日付や時刻を操作するためのクラスを提供しています。\n",
        "\n",
        "日付や時刻に対する算術がサポートされている一方、実装では出力のフォーマットや操作のための効率的な属性の抽出に重点を置いています。"
      ]
    },
    {
      "cell_type": "code",
      "execution_count": 6,
      "metadata": {
        "colab": {
          "base_uri": "https://localhost:8080/"
        },
        "id": "V86UwDuOfG8n",
        "outputId": "9fea9218-b225-4d33-9147-41d0e5912b17"
      },
      "outputs": [
        {
          "output_type": "stream",
          "name": "stdout",
          "text": [
            "2022-01-04 Have a nice day!\n"
          ]
        }
      ],
      "source": [
        "#AppMakesYouHappy.py\n",
        "#良い日になるプログラムを作りました\n",
        "#Google Colaboratoryで実行できます\n",
        "from datetime import date\n",
        "xday = date.today()\n",
        "if xday == date(2022, 1, 1):\n",
        "  message = 'Happy New Year!'\n",
        "else:\n",
        "  message = 'Have a nice day!'\n",
        "print(xday,message)"
      ]
    },
    {
      "cell_type": "code",
      "source": [
        "#AppMakesYouHappy_ForDebug.py\n",
        "from datetime import date\n",
        "#xday = date.today()    #<= コメントアウト\n",
        "xday = date(2023, 1, 1) #<= デバッグ用\n",
        "if xday == date(2022, 1, 1):\n",
        "  message = 'Happy New Year!'\n",
        "else:\n",
        "  message = 'Have a nice day!'\n",
        "print(xday,message)"
      ],
      "metadata": {
        "colab": {
          "base_uri": "https://localhost:8080/"
        },
        "id": "cskf-V-oljXT",
        "outputId": "0d2357e4-e1ed-453e-923b-dbcc129afe8d"
      },
      "execution_count": 7,
      "outputs": [
        {
          "output_type": "stream",
          "name": "stdout",
          "text": [
            "2023-01-01 Have a nice day!\n"
          ]
        }
      ]
    },
    {
      "cell_type": "markdown",
      "source": [
        "## AppMakesYouHappy.py 解説\n",
        "```\n",
        "from datetime import date    <= 日付や時刻を操作するためのクラスを提供するモジュール\n",
        "xday = date.today()          <= date.today() 現在のローカルな日付を返す\n",
        "if xday == date(2022, 1, 1): <= date(year, month, day)は整数型の3引数を日付型に変換する。\n",
        "  message = 'Happy New Year!'\n",
        "else:\n",
        "  message = 'Have a nice day!'\n",
        "print(xday,message)\n",
        "```\n"
      ],
      "metadata": {
        "id": "E6fHgkERhyRI"
      }
    },
    {
      "cell_type": "markdown",
      "source": [
        "---"
      ],
      "metadata": {
        "id": "YxaK3LqAmeId"
      }
    },
    {
      "cell_type": "code",
      "source": [
        "#AppMakesYouHappy2.py\n",
        "#良い日になるプログラムを作りました。永年使用改良版\n",
        "#Google Colaboratoryで実行できます\n",
        "from datetime import date\n",
        "xday = date.today()\n",
        "if xday.month == 1 and xday.day == 1:\n",
        "  message = 'Happy New Year!'\n",
        "else:\n",
        "  message = 'Have a nice day!'\n",
        "print(xday,message)"
      ],
      "metadata": {
        "colab": {
          "base_uri": "https://localhost:8080/"
        },
        "id": "LcY-tu9ZmQqY",
        "outputId": "4eee5821-1f7d-4e4c-80b5-e35b5598b45a"
      },
      "execution_count": 8,
      "outputs": [
        {
          "output_type": "stream",
          "name": "stdout",
          "text": [
            "2022-01-04 Have a nice day!\n"
          ]
        }
      ]
    },
    {
      "cell_type": "code",
      "source": [
        "#AppMakesYouHappy_ForDebug.py\n",
        "from datetime import date\n",
        "# xday = date.today()\n",
        "xday = date(2023, 1, 1) #<= デバッグ用。2023年1月1日を入れてみる\n",
        "if xday.month == 1 and xday.day == 1:\n",
        "  message = 'Happy New Year!'\n",
        "else:\n",
        "  message = 'Have a nice day!'\n",
        "print(xday,message)"
      ],
      "metadata": {
        "colab": {
          "base_uri": "https://localhost:8080/"
        },
        "outputId": "5c996dd3-e67b-4a2d-b650-2757a02c0d94",
        "id": "kT75C_70nHZE"
      },
      "execution_count": 10,
      "outputs": [
        {
          "output_type": "stream",
          "name": "stdout",
          "text": [
            "2023-01-01 Happy New Year!\n"
          ]
        }
      ]
    },
    {
      "cell_type": "markdown",
      "source": [
        "## AppMakesYouHappy2.py 解説\n",
        "```\n",
        "from datetime import date\n",
        "xday = date.today()\n",
        "if if xday.month == 1 and xday.day == 1: <= date.monthは月、date.dayは日付。\n",
        "  message = 'Happy New Year!'\n",
        "else:\n",
        "  message = 'Have a nice day!'\n",
        "print(xday,message)\n",
        "```\n"
      ],
      "metadata": {
        "id": "-ppNHkfdoSqE"
      }
    },
    {
      "cell_type": "markdown",
      "source": [
        "---\n",
        "# さまざまな使い方\n"
      ],
      "metadata": {
        "id": "KLXX7d2UpwSF"
      }
    },
    {
      "cell_type": "code",
      "source": [
        "# 日付を年月日に分解する\n",
        "from datetime import date\n",
        "xday = date(2022,2,2)\n",
        "print(\"YEAR=\",xday.year,\"/MONTH=\",xday.month,\"/DAY=\",xday.day)"
      ],
      "metadata": {
        "colab": {
          "base_uri": "https://localhost:8080/"
        },
        "id": "Tt9AsGOkrkNM",
        "outputId": "045c577f-6d70-4192-afbb-a256eef1d3cf"
      },
      "execution_count": 10,
      "outputs": [
        {
          "output_type": "stream",
          "name": "stdout",
          "text": [
            "YEAR= 2022 /MONTH= 2 /DAY= 2\n"
          ]
        }
      ]
    },
    {
      "cell_type": "code",
      "source": [
        "# YYYY-MM-DD という書式で与えられた 文字列 に対応する 日付 を返します\n",
        "from datetime import date\n",
        "xday = date.fromisoformat('2023-03-14')\n",
        "print(\"YEAR=\",xday.year,\"/MONTH=\",xday.month,\"/DAY=\",xday.day)"
      ],
      "metadata": {
        "colab": {
          "base_uri": "https://localhost:8080/"
        },
        "outputId": "fc0647ba-2bf6-4e63-d716-5b3e1d40f627",
        "id": "eQ87MCtPs3VT"
      },
      "execution_count": 11,
      "outputs": [
        {
          "output_type": "stream",
          "name": "stdout",
          "text": [
            "YEAR= 2023 /MONTH= 3 /DAY= 14\n"
          ]
        }
      ]
    },
    {
      "cell_type": "code",
      "source": [
        "# 日付 を YYYY-MM-DD という書式で与えられた 文字列 で返します\n",
        "from datetime import date\n",
        "xday = date.today()\n",
        "print( xday.isoformat() )\n",
        "print( date(2023, 3, 14).isoformat() )"
      ],
      "metadata": {
        "colab": {
          "base_uri": "https://localhost:8080/"
        },
        "outputId": "9a7a621b-b434-4be5-c1f9-00096cf1b0a1",
        "id": "E12GfLHivEPZ"
      },
      "execution_count": 26,
      "outputs": [
        {
          "output_type": "stream",
          "name": "stdout",
          "text": [
            "2022-01-04\n",
            "2023-03-14\n"
          ]
        }
      ]
    },
    {
      "cell_type": "code",
      "source": [
        "# 日付 を 任意の書式に変換する\n",
        "from datetime import date\n",
        "xday = date.today()\n",
        "print( xday.strftime('%Y%m%d') )        #<= %Y 年を西暦4桁で表示\n",
        "print( xday.strftime('%y/%m/%d') )      #<= %y 年を西暦2桁で表示\n",
        "print( xday.strftime('%Y年%m月%d日') )  #<= %m 月を2桁で表示。%d 日付を2桁で表示。\n",
        "print( xday.strftime('%Y %B %d %A') )   #<= %B 月名を英語で表示。%A 曜日を英語で表示。\n",
        "print( xday.strftime('%Y %b %d %a') )   #<= %b 月名を英語短縮形で表示。%a 曜日を英語短縮形で表示。"
      ],
      "metadata": {
        "colab": {
          "base_uri": "https://localhost:8080/"
        },
        "outputId": "240d972c-1059-4c96-9f08-1d794ce04295",
        "id": "jNUymtgPjlUT"
      },
      "execution_count": 33,
      "outputs": [
        {
          "output_type": "stream",
          "name": "stdout",
          "text": [
            "20220104\n",
            "22/01/04\n",
            "2022年01月04日\n",
            "2022 January 04 Tuesday\n",
            "2022 Jan 04 Tue\n"
          ]
        }
      ]
    },
    {
      "cell_type": "code",
      "source": [
        "# 日付を表す文字列を返します\n",
        "from datetime import date\n",
        "xday = date.today()\n",
        "print( xday.ctime() )\n",
        "print( date(2023, 3, 14).ctime() )"
      ],
      "metadata": {
        "colab": {
          "base_uri": "https://localhost:8080/"
        },
        "outputId": "456205fd-4463-4a80-ab59-650640c470c1",
        "id": "2Rd0ttzFZERa"
      },
      "execution_count": 13,
      "outputs": [
        {
          "output_type": "stream",
          "name": "stdout",
          "text": [
            "Tue Jan  4 00:00:00 2022\n",
            "Tue Mar 14 00:00:00 2023\n"
          ]
        }
      ]
    },
    {
      "cell_type": "code",
      "source": [
        "# 演算\n",
        "from datetime import timedelta #<= timedelta はdate, time, あるいは datetime クラスの経過時間、すなわち二つの日付や時刻間の差を表します。\n",
        "wdays = timedelta(days=32)         #<= 日付の差を与える\n",
        "xday = date(2022,1,1)\n",
        "print(xday + wdays)"
      ],
      "metadata": {
        "colab": {
          "base_uri": "https://localhost:8080/"
        },
        "outputId": "568d7c8a-a583-467c-ccf0-e34fd02c62c6",
        "id": "HCdO2XDGuSyb"
      },
      "execution_count": 24,
      "outputs": [
        {
          "output_type": "stream",
          "name": "stdout",
          "text": [
            "2022-02-02\n"
          ]
        }
      ]
    },
    {
      "cell_type": "code",
      "source": [
        "# 曜日。月曜日を 0、日曜日を 6 として、曜日を整数で返します\n",
        "from datetime import date\n",
        "xday = date(2022,2,2)\n",
        "print( \"xdayの曜日=\", xday, xday.weekday() )\n",
        "print( \"今日の曜日=\", date.today(), date.today().weekday() )"
      ],
      "metadata": {
        "colab": {
          "base_uri": "https://localhost:8080/"
        },
        "outputId": "cd1958af-ccbd-4ac8-9d9f-640fdccdb424",
        "id": "VUo2gF36Vdnw"
      },
      "execution_count": 5,
      "outputs": [
        {
          "output_type": "stream",
          "name": "stdout",
          "text": [
            "xdayの曜日= 2022-02-02 2\n",
            "今日の曜日= 2022-01-04 1\n"
          ]
        }
      ]
    },
    {
      "cell_type": "code",
      "source": [
        "# 曜日。月曜日を 1,日曜日を 7 として、曜日を整数で返します。\n",
        "from datetime import date\n",
        "xday = date(2022,2,2)\n",
        "print( \"xdayの曜日=\", xday, xday.isoweekday() )\n",
        "print( \"今日の曜日=\", date.today(), date.today().isoweekday() )"
      ],
      "metadata": {
        "colab": {
          "base_uri": "https://localhost:8080/"
        },
        "outputId": "dcd06bd3-aa5a-4fde-c78d-4681589eb634",
        "id": "LcVgHhSkYKsg"
      },
      "execution_count": 12,
      "outputs": [
        {
          "output_type": "stream",
          "name": "stdout",
          "text": [
            "xdayの曜日= 2022-02-02 3\n",
            "今日の曜日= 2022-01-04 2\n"
          ]
        }
      ]
    },
    {
      "cell_type": "markdown",
      "source": [
        "---\n",
        "# time オブジェクト\n",
        "time オブジェクトは (ローカルの) 日中時刻を表現します。 この時刻表現は特定の日の影響を受けず、 tzinfo オブジェクトを介した修正の対象となります。"
      ],
      "metadata": {
        "id": "i0nXekmqbKgh"
      }
    },
    {
      "cell_type": "code",
      "source": [
        "# 日時を年月日時分秒マイクロ秒に分解する\n",
        "from datetime import datetime\n",
        "xdt = datetime.now() #<= datetime.now()のほうがdatetime.today()より好ましいとされている\n",
        "print( xdt )\n",
        "print(\"YEAR=\",xdt.year,\"/MONTH=\",xdt.month,\"/DAY=\",xdt.day,\"/hour=\",xdt.hour,\"/minute=\",xdt.minute,\"/second=\",xdt.second,\"/microsecond=\",xdt.microsecond)"
      ],
      "metadata": {
        "colab": {
          "base_uri": "https://localhost:8080/"
        },
        "outputId": "54d182b3-d263-4a9e-ea04-b36efe38cbb2",
        "id": "-9z_emhnh0q_"
      },
      "execution_count": null,
      "outputs": [
        {
          "output_type": "stream",
          "name": "stdout",
          "text": [
            "2022-01-04 05:04:42.176970\n",
            "YEAR= 2022 /MONTH= 1 /DAY= 4 /hour= 5 /minute= 4 /second= 42 /microsecond= 176970\n"
          ]
        }
      ]
    },
    {
      "cell_type": "code",
      "source": [
        "# 日時のタイムゾーンを東京にする\n",
        "from datetime import datetime\n",
        "import pytz #<= タイムゾーン指定\n",
        "xdt = datetime.now()\n",
        "print( xdt )\n",
        "xdtTokyo = datetime.now( pytz.timezone('Asia/Tokyo') ) #<= タイムゾーンで東京を指定する\n",
        "print( xdtTokyo )"
      ],
      "metadata": {
        "colab": {
          "base_uri": "https://localhost:8080/"
        },
        "id": "g8H1p7qybJoH",
        "outputId": "e01ad4cc-4efd-44d8-cc83-45d5bb0df06f"
      },
      "execution_count": 28,
      "outputs": [
        {
          "output_type": "stream",
          "name": "stdout",
          "text": [
            "2022-01-04 05:23:20.045489\n",
            "2022-01-04 14:23:20.046291+09:00\n"
          ]
        }
      ]
    },
    {
      "cell_type": "code",
      "source": [
        "# 時刻 を 任意の書式に変換する\n",
        "from datetime import datetime\n",
        "import pytz\n",
        "xdtTokyo = datetime.now( pytz.timezone('Asia/Tokyo') ) \n",
        "print( xdtTokyo )\n",
        "print( xdtTokyo.strftime('%Y/%m/%d %H:%M:%S.%f') )      #<= %H 時を24時間表記。%M 分を2桁で表示。%S 秒を2桁で表示。%f マイクロ秒を6桁で表示。\n",
        "print( xdtTokyo.strftime('%Y/%m/%d %p%l:%S.%f') )      #<= %p AMまたはPMを表示。%l 時を12時間表記。"
      ],
      "metadata": {
        "colab": {
          "base_uri": "https://localhost:8080/"
        },
        "outputId": "1f535675-f7a2-4b61-fcd0-e48bee98b41b",
        "id": "Nka-tCXdmkAZ"
      },
      "execution_count": 42,
      "outputs": [
        {
          "output_type": "stream",
          "name": "stdout",
          "text": [
            "2022-01-04 14:52:40.857475+09:00\n",
            "2022/01/04 14:52:40.857475\n",
            "2022/01/04 PM 2:40.857475\n"
          ]
        }
      ]
    }
  ],
  "metadata": {
    "kernelspec": {
      "display_name": "Python 3",
      "language": "python",
      "name": "python3"
    },
    "language_info": {
      "codemirror_mode": {
        "name": "ipython",
        "version": 3
      },
      "file_extension": ".py",
      "mimetype": "text/x-python",
      "name": "python",
      "nbconvert_exporter": "python",
      "pygments_lexer": "ipython3",
      "version": "3.6.4"
    },
    "colab": {
      "name": "[NB]Python-datetime.ipynb",
      "provenance": [],
      "collapsed_sections": []
    }
  },
  "nbformat": 4,
  "nbformat_minor": 0
}