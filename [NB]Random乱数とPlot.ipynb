{
  "nbformat": 4,
  "nbformat_minor": 0,
  "metadata": {
    "colab": {
      "name": "[NB]Random乱数とPlot.ipynb",
      "provenance": [],
      "include_colab_link": true
    },
    "kernelspec": {
      "name": "python3",
      "display_name": "Python 3"
    },
    "language_info": {
      "name": "python"
    }
  },
  "cells": [
    {
      "cell_type": "markdown",
      "metadata": {
        "id": "view-in-github",
        "colab_type": "text"
      },
      "source": [
        "<a href=\"https://colab.research.google.com/github/Hiroyuki-Moriya/Python_knowledge/blob/main/%5BNB%5DRandom%E4%B9%B1%E6%95%B0%E3%81%A8Plot.ipynb\" target=\"_parent\"><img src=\"https://colab.research.google.com/assets/colab-badge.svg\" alt=\"Open In Colab\"/></a>"
      ]
    },
    {
      "cell_type": "markdown",
      "source": [
        "# Pythonでランダムな小数・整数を生成する\n",
        "\n",
        "[Pythonでランダムな小数・整数を生成するrandom, randrange, randintなど - note.nkmk.me -](https://note.nkmk.me/python-random-randrange-randint/)  \n",
        "\n",
        "[ 3.10.4 Documentation » Python 標準ライブラリ » 数値と数学モジュール » random --- 擬似乱数を生成する](https://docs.python.org/ja/3/library/random.html)  \n",
        "\n",
        "[NumPy, randomで様々な種類の乱数の配列を生成 - note.nkmk.me -](https://note.nkmk.me/python-numpy-random/)  \n",
        "\n",
        "[matplotlibでのプロットの基本 - Qiita - ](https://qiita.com/KntKnk0328/items/5ef40d9e77308dd0d0a4)  \n",
        "\n",
        "\n",
        "[正規分布の分かりやすいまとめ](https://ai-trend.jp/basic-study/normal-distribution/normal-distribution/)  \n",
        "\n"
      ],
      "metadata": {
        "id": "EYJTjzd45olX"
      }
    },
    {
      "cell_type": "code",
      "source": [
        "# 正規分布の乱数生成(numpy)\n",
        "import matplotlib.pyplot as plt\n",
        "import numpy as np\n",
        "\n",
        "arrY1 = np.random.randn(100) #平均0、分散1（標準偏差1）\n",
        "arrX1 = [] # グラフにしたいので、X軸は0.01刻みで増やしていくことにする\n",
        "for i in range(100):\n",
        "  arrX1.append(i/100)\n",
        "\n",
        "# Figureの初期化\n",
        "fig = plt.figure(figsize=(4, 3)) #　図の領域の広さを、x軸方向に4インチ、y軸方向に3インチとする\n",
        "\n",
        "# Figure内にAxesを追加\n",
        "ax = fig.add_axes([0,0,1,1])\n",
        "#ax.plot(arrX1, arrY1, label=\"test\") #折れ線グラフ\n",
        "ax.scatter(arrX1, arrY1, label=\"test\") #散布図\n",
        "\n",
        "# 凡例の表示\n",
        "# plt.legend() <=邪魔\n",
        "\n",
        "# プロット表示(設定の反映)\n",
        "plt.show()\n",
        "\n",
        "# データ表示\n",
        "print(arrY1)\n",
        "print('MAX=',max(arrY1))\n",
        "print('MIN=',min(arrY1))"
      ],
      "metadata": {
        "colab": {
          "base_uri": "https://localhost:8080/",
          "height": 594
        },
        "id": "ckMsjvbY1j4L",
        "outputId": "abbe1806-cb1e-47c9-a9dd-6b10e5f862b6"
      },
      "execution_count": null,
      "outputs": [
        {
          "output_type": "display_data",
          "data": {
            "text/plain": [
              "<Figure size 288x216 with 1 Axes>"
            ],
            "image/png": "[encoded data removed]"
          },
          "metadata": {
            "needs_background": "light"
          }
        },
        {
          "output_type": "stream",
          "name": "stdout",
          "text": [
            "[-0.31840959 -0.98424943  0.10155247 -0.63899122 -0.42887977  1.8014898\n",
            " -0.27634286 -1.06935643 -0.89484312  0.69365083 -1.17203868 -0.29685388\n",
            " -1.17286246 -1.53946887 -1.13842217 -0.95213301  1.20871246  0.13706819\n",
            "  0.66194803 -1.0702086  -1.21311292  0.50157281 -0.65989415 -0.25437543\n",
            " -0.78180959 -2.05994398  0.45393559 -1.6714254   0.82633299  0.76099805\n",
            "  1.21946903 -1.20653828 -0.8804407  -1.13874407 -0.57527949  2.05964714\n",
            "  0.03247793 -1.1146384   1.37599721 -0.80280342  0.03079672 -1.21623457\n",
            "  0.17270262  1.39158935  0.72726912 -1.04083253  0.88232933 -0.89565901\n",
            "  0.48822502 -0.09177851 -1.45002911 -0.11985818 -0.55506167 -0.87101217\n",
            " -0.56760735  0.43667851 -2.61508502 -0.91759831  1.42826407  0.58062824\n",
            "  0.84312574  0.11324481 -1.05639171 -0.0663963   0.4813407  -0.91835498\n",
            "  0.14524045 -0.54554899  1.3241536  -1.48263321 -1.03940083  1.28412767\n",
            "  0.08196444 -0.27472698 -0.57004884  0.67594921 -1.33922639  1.18673771\n",
            " -1.42085375 -0.30443189 -0.68118798 -0.98965921  3.07082341  0.56583214\n",
            "  0.33410844 -0.91492525  0.93872569  1.523554    0.84811845  0.78564763\n",
            " -1.35009318 -0.18044043 -1.32662766 -0.81843993 -0.65825757  1.66052667\n",
            " -1.18412969 -0.80182733 -2.56431754  0.15450168]\n",
            "MAX= 3.070823414723302\n",
            "MIN= -2.615085019582406\n"
          ]
        }
      ]
    },
    {
      "cell_type": "code",
      "source": [
        "# 一様分布の乱数生成(numpy)\n",
        "import numpy as np\n",
        "arrY2 = np.random.rand(100) #0.0以上、1.0未満\n",
        "\n",
        "arrX2 = [] # グラフにしたいので、X軸は0.01刻みで増やしていくことにする\n",
        "for i in range(100):\n",
        "  arrX2.append(i/100)\n",
        "\n",
        "# Figureの初期化\n",
        "fig = plt.figure(figsize=(4, 3)) #　図の領域の広さを、x軸方向に4インチ、y軸方向に3インチとする\n",
        "\n",
        "# Figure内にAxesを追加\n",
        "ax = fig.add_axes([0,0,1,1])\n",
        "#ax.plot(arrX2, arrY2, label=\"test\") #折れ線グラフ\n",
        "ax.scatter(arrX2, arrY2, label=\"test\") #散布図\n",
        "\n",
        "# 凡例の表示\n",
        "# plt.legend() <=邪魔\n",
        "\n",
        "# プロット表示(設定の反映)\n",
        "plt.show()\n",
        "\n",
        "print(arrY2)\n",
        "print('MAX=',max(arrY2))\n",
        "print('MIN=',min(arrY2))"
      ],
      "metadata": {
        "colab": {
          "base_uri": "https://localhost:8080/",
          "height": 594
        },
        "id": "0Olcx0yb3tOz",
        "outputId": "1ea667ae-4f64-48ee-fc2e-43e248e77c2f"
      },
      "execution_count": null,
      "outputs": [
        {
          "output_type": "display_data",
          "data": {
            "text/plain": [
              "<Figure size 288x216 with 1 Axes>"
            ],
            "image/png": "[encoded data removed]"
          },
          "metadata": {
            "needs_background": "light"
          }
        },
        {
          "output_type": "stream",
          "name": "stdout",
          "text": [
            "[0.24974264 0.8555867  0.9474268  0.2386011  0.70685667 0.33146422\n",
            " 0.61429178 0.78181208 0.22445575 0.10346214 0.31469059 0.25814089\n",
            " 0.03544375 0.71301437 0.21308382 0.36210406 0.58579263 0.57435615\n",
            " 0.95755872 0.75364297 0.24070803 0.9584037  0.39884359 0.66297756\n",
            " 0.74157741 0.09144744 0.72499631 0.28830752 0.85545239 0.92415935\n",
            " 0.11082462 0.36067298 0.2501421  0.26585757 0.10462174 0.06463065\n",
            " 0.26289009 0.00257425 0.79326115 0.34490102 0.33834674 0.1744059\n",
            " 0.47331792 0.49497564 0.16447614 0.8269588  0.44372324 0.94791093\n",
            " 0.40950477 0.7484643  0.7209568  0.7753621  0.31168673 0.87289478\n",
            " 0.92968741 0.64343239 0.28242132 0.43351505 0.93893738 0.4725815\n",
            " 0.88688411 0.99539293 0.53284106 0.08511763 0.21360425 0.20477052\n",
            " 0.51263073 0.41835169 0.63061379 0.25219806 0.16731612 0.52706602\n",
            " 0.88428499 0.05040248 0.22033259 0.9573791  0.05068075 0.69386066\n",
            " 0.5560033  0.0717273  0.90434354 0.87569192 0.24790297 0.23737426\n",
            " 0.33645266 0.64327065 0.53772479 0.18227974 0.31706183 0.7117346\n",
            " 0.37629062 0.56066125 0.26311147 0.37311769 0.4783368  0.34126643\n",
            " 0.52208015 0.14643824 0.636592   0.85600062]\n",
            "MAX= 0.9953929255526248\n",
            "MIN= 0.0025742459959329222\n"
          ]
        }
      ]
    },
    {
      "cell_type": "code",
      "source": [
        "# 一様分布の乱数生成(numpy)\n",
        "import numpy as np\n",
        "print('1以上10未満の整数乱数の値で作る12組 x 2要素の配列')\n",
        "arr1 = np.random.randint(1, 10, (12, 2))\n",
        "print(arr1)\n"
      ],
      "metadata": {
        "colab": {
          "base_uri": "https://localhost:8080/"
        },
        "id": "Wtfv1lGK9YIc",
        "outputId": "7f0f75df-622b-4645-9d9b-de33851ed966"
      },
      "execution_count": null,
      "outputs": [
        {
          "output_type": "stream",
          "name": "stdout",
          "text": [
            "1以上10未満の整数乱数の値で作る12組 x 2要素の配列\n",
            "[[6 3]\n",
            " [8 6]\n",
            " [1 5]\n",
            " [7 3]\n",
            " [7 2]\n",
            " [7 4]\n",
            " [9 6]\n",
            " [8 4]\n",
            " [7 8]\n",
            " [9 6]\n",
            " [7 8]\n",
            " [4 6]]\n"
          ]
        }
      ]
    },
    {
      "cell_type": "code",
      "source": [
        "# 一様分布の乱数生成(numpy)\n",
        "import numpy as np\n",
        "\n",
        "print('0以上10未満の整数乱数の値で作る100要素の1次元配列')\n",
        "arr2 = np.random.randint(0, 10, 100)\n",
        "print(arr2)\n",
        "\n",
        "arr2Count = [0,0,0,0,0,0,0,0,0,0]\n",
        "for i in range(len(arr2)):\n",
        "  for j in range(10):\n",
        "    if arr2[i] == j:\n",
        "      arr2Count[j] = arr2Count[j] +1\n",
        "print('要素ごとの発生個数')\n",
        "\n",
        "arr2Sum = 0\n",
        "for k in range(10):\n",
        "  print (k,'=',arr2Count[k])\n",
        "  arr2Sum = arr2Sum + arr2Count[k]\n",
        "print('検算（発生個数の合計）',arr2Sum)"
      ],
      "metadata": {
        "colab": {
          "base_uri": "https://localhost:8080/"
        },
        "id": "w3xRr2yoQhKt",
        "outputId": "7ce73d1d-36a0-4908-97c0-b52fc85e808c"
      },
      "execution_count": null,
      "outputs": [
        {
          "output_type": "stream",
          "name": "stdout",
          "text": [
            "0以上10未満の整数乱数の値で作る100要素の1次元配列\n",
            "[9 0 3 5 4 9 6 5 1 4 0 2 1 0 8 6 3 7 7 2 9 7 9 8 5 6 1 1 5 9 8 0 2 6 4 5 4\n",
            " 1 4 8 0 2 8 6 2 4 3 7 5 8 2 2 9 1 7 9 7 9 0 4 6 5 7 0 0 3 5 6 9 8 8 4 3 7\n",
            " 2 8 3 5 6 1 2 9 6 9 9 0 7 1 4 6 8 5 5 5 6 2 0 7 4 6]\n",
            "要素ごとの発生個数\n",
            "0 = 10\n",
            "1 = 8\n",
            "2 = 10\n",
            "3 = 6\n",
            "4 = 10\n",
            "5 = 12\n",
            "6 = 12\n",
            "7 = 10\n",
            "8 = 10\n",
            "9 = 12\n",
            "検算（発生個数の合計） 100\n"
          ]
        }
      ]
    },
    {
      "cell_type": "code",
      "source": [
        "# random.uniform()（任意の範囲の浮動小数点数）\n",
        "# randomモジュールの関数uniform(a, b)は任意の範囲（a <= n <= bまたはb <= n <= a）の浮動小数点数float型の乱数を生成する。\n",
        "import random\n",
        "r1 = random.uniform(0,360) #<=標準ライブラリでは1個の値ができる\n",
        "print(r1)\n"
      ],
      "metadata": {
        "colab": {
          "base_uri": "https://localhost:8080/"
        },
        "id": "ggZelU5j4VU9",
        "outputId": "3fbd49ac-e76d-46a5-82ed-24e15dd4760f"
      },
      "execution_count": null,
      "outputs": [
        {
          "output_type": "stream",
          "name": "stdout",
          "text": [
            "211.30422387141104\n"
          ]
        }
      ]
    },
    {
      "cell_type": "code",
      "source": [
        "import matplotlib.pyplot as plt\n",
        "import numpy as np\n",
        "\n",
        "# データ生成\n",
        "print('0以上10未満の整数乱数の値で作る100要素をx,y軸にプロットしてみた')\n",
        "print('x,y要素を100組にすると、重複があるらしく散布図に穴が開く')\n",
        "arrX = np.random.randint(0, 10, 100)\n",
        "arrY = np.random.randint(0, 10, 100)\n",
        "\n",
        "# Figureの初期化\n",
        "fig = plt.figure(figsize=(4, 3)) #　図の領域の広さを、x軸方向に4インチ、y軸方向に3インチとする\n",
        "\n",
        "# Figure内にAxesを追加\n",
        "ax = fig.add_axes([0,0,1,1])\n",
        "#ax.plot(arrX, arrY, label=\"test\") #折れ線グラフ <=前衛芸術的w\n",
        "ax.scatter(arrX, arrY, label=\"test\") #散布図\n",
        "\n",
        "# 凡例の表示\n",
        "# plt.legend() <=邪魔\n",
        "\n",
        "# プロット表示(設定の反映)\n",
        "plt.show()\n",
        "\n",
        "# データ表示\n",
        "for i in range(len(arrX)):\n",
        "  print(arrX[i],arrY[i])"
      ],
      "metadata": {
        "colab": {
          "base_uri": "https://localhost:8080/",
          "height": 1000
        },
        "id": "JDcGHVBcUEfM",
        "outputId": "6037e1f0-a1a7-425d-83e1-eebc63da6411"
      },
      "execution_count": null,
      "outputs": [
        {
          "output_type": "stream",
          "name": "stdout",
          "text": [
            "0以上10未満の整数乱数の値で作る100要素をx,y軸にプロットしてみた\n",
            "x,y要素を100組にすると、重複があるらしく散布図に穴が開く\n"
          ]
        },
        {
          "output_type": "display_data",
          "data": {
            "text/plain": [
              "<Figure size 288x216 with 1 Axes>"
            ],
            "image/png": "[encoded data removed]"
          },
          "metadata": {
            "needs_background": "light"
          }
        },
        {
          "output_type": "stream",
          "name": "stdout",
          "text": [
            "9 3\n",
            "6 4\n",
            "6 4\n",
            "6 4\n",
            "6 6\n",
            "1 1\n",
            "1 3\n",
            "7 8\n",
            "6 9\n",
            "0 1\n",
            "6 0\n",
            "0 5\n",
            "2 4\n",
            "9 2\n",
            "8 2\n",
            "9 9\n",
            "6 3\n",
            "6 2\n",
            "6 0\n",
            "0 9\n",
            "9 5\n",
            "4 8\n",
            "6 5\n",
            "3 9\n",
            "7 0\n",
            "4 4\n",
            "7 0\n",
            "7 7\n",
            "2 1\n",
            "3 6\n",
            "9 4\n",
            "7 1\n",
            "3 2\n",
            "5 3\n",
            "7 4\n",
            "5 7\n",
            "6 6\n",
            "7 6\n",
            "9 7\n",
            "9 7\n",
            "3 7\n",
            "4 0\n",
            "1 0\n",
            "2 3\n",
            "8 1\n",
            "1 6\n",
            "4 1\n",
            "2 2\n",
            "6 5\n",
            "1 5\n",
            "7 2\n",
            "6 5\n",
            "5 8\n",
            "7 2\n",
            "1 6\n",
            "2 5\n",
            "5 0\n",
            "7 6\n",
            "8 7\n",
            "8 1\n",
            "8 3\n",
            "6 8\n",
            "2 0\n",
            "2 8\n",
            "7 1\n",
            "2 2\n",
            "8 6\n",
            "7 7\n",
            "6 7\n",
            "4 7\n",
            "3 1\n",
            "9 1\n",
            "1 0\n",
            "4 4\n",
            "9 8\n",
            "0 5\n",
            "6 5\n",
            "7 9\n",
            "0 7\n",
            "0 0\n",
            "9 7\n",
            "8 4\n",
            "1 5\n",
            "3 2\n",
            "4 2\n",
            "2 8\n",
            "6 6\n",
            "2 2\n",
            "2 4\n",
            "4 7\n",
            "0 6\n",
            "4 5\n",
            "1 2\n",
            "9 1\n",
            "8 9\n",
            "7 0\n",
            "2 8\n",
            "2 5\n",
            "3 4\n",
            "8 5\n"
          ]
        }
      ]
    }
  ]
}