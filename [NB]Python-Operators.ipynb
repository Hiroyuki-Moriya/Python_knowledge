{
 "cells": [
  {
   "cell_type": "code",
   "execution_count": null,
   "metadata": {
    "collapsed": true
   },
   "outputs": [],
   "source": [
    "# Python-Operators.py\n",
    "# coding: utf-8\n",
    "# 大分類 Pythonの基本文法\n",
    "# 中分類 演算子\n",
    "# 小分類 代数演算子、ビット演算子、代入演算子、比較演算子、条件演算、文字列演算\n",
    "# 特色　　\n",
    "# 参考　Python入門 - 演算子\n",
    "# 　　　　http://www.tohoho-web.com/python/operators.html"
   ]
  },
  {
   "cell_type": "markdown",
   "metadata": {},
   "source": [
    "### 代数演算子(+, -, *, /, %, **, //)  \n",
    "下記の演算子が定義されています。\n",
    "\n",
    "+a            # 正数\n",
    "-a            # 負数\n",
    "a + b         # 加算\n",
    "a - b         # 減算\n",
    "a * b         # 乗算\n",
    "a / b         # 除算\n",
    "a % b         # a を b で割った余り\n",
    "a ** b        # a の b 乗\n",
    "a // b        # 切り捨て除算\n"
   ]
  },
  {
   "cell_type": "code",
   "execution_count": null,
   "metadata": {},
   "outputs": [],
   "source": [
    "# Python-Operators1.py\n",
    "# coding: utf-8\n",
    "# 大分類 Pythonの基本文法\n",
    "# 中分類 演算子\n",
    "# 小分類\n",
    "# 特色　　\n",
    "# 参考　Python入門 - 演算子\n",
    "# 　　　　http://www.tohoho-web.com/python/operators.html\n",
    "\n",
    "def pause(accept_str):\n",
    "    accept_str = input(str(accept_str))\n",
    "    if accept_str == '0':\n",
    "        return\n",
    "    else:\n",
    "        return\n",
    "\n",
    "a = 7\n",
    "b = 2\n",
    "print('a = {}, b = {} \\n'.format(a,b))\n",
    "\n",
    "pause('a を b で割った余り')\n",
    "print('{} % {} ='.format(a,b),a % b,'\\n')\n",
    "\n",
    "pause('a の b 乗')\n",
    "print('{} ** {} ='.format(a,b),a ** b,'\\n')\n",
    "\n",
    "pause('切り捨て除算')\n",
    "print('{} // {} ='.format(a,b),a // b,'\\n')\n"
   ]
  },
  {
   "cell_type": "markdown",
   "metadata": {
    "collapsed": true
   },
   "source": [
    "### ビット演算子(~, &, |, ^, <<, >>)\n",
    "下記のビット演算子が定義されています。\n",
    "\n",
    "~a            # ビット反転\n",
    "a & b         # AND:論理積(aもbも1のビットが1)\n",
    "a | b         # OR:論理和(aまたはbが1のビットが1)\n",
    "a ^ b         # XOR:排他的論理和(aまたはbが1のビットが1)\n",
    "a << b        # b ビット左シフト\n",
    "a >> b        # b ビット右シフト"
   ]
  },
  {
   "cell_type": "code",
   "execution_count": null,
   "metadata": {
    "scrolled": true
   },
   "outputs": [],
   "source": [
    "# Python-Operators2.py\n",
    "# coding: utf-8\n",
    "# 大分類 Pythonの基本文法\n",
    "# 中分類 演算子\n",
    "# 小分類\n",
    "# 特色　　\n",
    "# 参考　Python入門 - 演算子\n",
    "# 　　　　http://www.tohoho-web.com/python/operators.html\n",
    "# 参考 Pythonで2進数を扱う\n",
    "#        http://kaworu.jpn.org/python/Python%E3%81%A72%E9%80%B2%E6%95%B0%E3%82%92%E6%89%B1%E3%81%86\n",
    "\n",
    "def pause(accept_str):\n",
    "    accept_str = input(str(accept_str))\n",
    "    if accept_str == '0':\n",
    "        return\n",
    "    else:\n",
    "        return\n",
    "    \n",
    "a = 7 #111\n",
    "b = 2 #010\n",
    "print('a = {}'.format(a),'BIT = ',format(a, 'b'))\n",
    "print('b = {}'.format(b),'BIT = ',format(b, 'b'))\n",
    "\n",
    "\n",
    "pause('{}ビット反転'.format('\\n'))\n",
    "print('~{} のビット反転'.format(a),~a,)\n",
    "print('~{}'.format(a),'BIT = ',format(~a, 'b'))"
   ]
  },
  {
   "cell_type": "markdown",
   "metadata": {},
   "source": [
    "### 代入演算子(=, +=, -=, *=, /=, %=, **=, //=, &=, |=, ^=, <<=, >>=)\n",
    "下記の代入演算子が定義されています。  \n",
    "++ や -- はサポートされていないので、代わりに a += 1 や a -= 1 を用います。\n",
    "\n",
    "a = b         # a に b を代入する\n",
    "a += b        # a = a + b に同じ\n",
    "a -= b        # a = a - b に同じ\n",
    "a *= b        # a = a * b に同じ\n",
    "a /= b        # a = a / b に同じ\n",
    "a %= b        # a = a % b に同じ\n",
    "a **= b       # a = a ** b に同じ\n",
    "a //= b       # a = a // b に同じ\n",
    "a &= b        # a = a & b に同じ\n",
    "a |= b        # a = a | b に同じ\n",
    "a ^= b        # a = a ^ b に同じ\n",
    "a <<= b       # a = a << b に同じ\n",
    "a >>= b       # a = a >> b に同じ"
   ]
  },
  {
   "cell_type": "code",
   "execution_count": null,
   "metadata": {},
   "outputs": [],
   "source": [
    "# Python-Operators3.py\n",
    "# coding: utf-8\n",
    "# 大分類 Pythonの基本文法\n",
    "# 中分類 演算子\n",
    "# 小分類\n",
    "# 特色　　\n",
    "# 参考　Python入門 - 演算子\n",
    "# 　　　　http://www.tohoho-web.com/python/operators.html\n",
    "\n",
    "def pause(accept_str):\n",
    "    accept_str = input(str(accept_str))\n",
    "    if accept_str == '0':\n",
    "        return\n",
    "    else:\n",
    "        return\n",
    "\n",
    "a = 7\n",
    "b = 2\n",
    "print('a = {}, b = {} \\n'.format(a,b))\n",
    "pause('式 a += b は、 a = a + b に同じ')\n",
    "a = 1\n",
    "a += 1\n",
    "print(' a = 1 \\n','a += 1 \\n','a = {}'.format(a))\n"
   ]
  },
  {
   "cell_type": "markdown",
   "metadata": {},
   "source": [
    "### 比較演算子(==, !=, <, >, <=, >=, <=>, ===)  \n",
    "下記の比較演算子が定義されています。  \n",
    "\n",
    "a == b           # a が b と等しい\n",
    "a != b           # a が b と異なる\n",
    "a < b            # a が b よりも小さい\n",
    "a > b            # a が b よりも大きい\n",
    "a <= b           # a が b 以下である\n",
    "a >= b           # a が b 以上である\n",
    "a <> b           # a が b と異なる\n",
    "a is b           # a が b と等しい\n",
    "a is not b       # a が b と異なる\n",
    "a in b           # a が b に含まれる\n",
    "a not in b       # a が b に含まれない"
   ]
  },
  {
   "cell_type": "code",
   "execution_count": null,
   "metadata": {},
   "outputs": [],
   "source": [
    "# Python-Operators4.py\n",
    "# coding: utf-8\n",
    "# 大分類 Pythonの基本文法\n",
    "# 中分類 演算子\n",
    "# 小分類\n",
    "# 特色　　\n",
    "# 参考　Python入門 - 演算子\n",
    "# 　　　　http://www.tohoho-web.com/python/operators.html\n",
    "\n",
    "def pause(accept_str):\n",
    "    accept_str = input(str(accept_str))\n",
    "    if accept_str == '0':\n",
    "        return\n",
    "    else:\n",
    "        return\n",
    "\n",
    "a = 'Ruby'\n",
    "b = ['Ruby','Weiss','Blake','Yang']\n",
    "print('a = ',a)\n",
    "print('b = ',b)\n",
    "if (a in b):\n",
    "    print('a {}は、b {}に含まれる'.format(a,b))\n",
    "else:\n",
    "    print('a {}は、b {}に含まれない'.format(a,b))"
   ]
  },
  {
   "cell_type": "markdown",
   "metadata": {},
   "source": [
    "### ブール演算子(and, or, not)  \n",
    "下記のブール演算子が定義されています。  \n",
    "\n",
    "a and b         # a も b も真であれば真\n",
    "a or b          # a または b が真であれば真\n",
    "not a           # a が偽であれば真"
   ]
  },
  {
   "cell_type": "code",
   "execution_count": null,
   "metadata": {},
   "outputs": [],
   "source": [
    "# Python-Operators5.py\n",
    "# coding: utf-8\n",
    "# 大分類 Pythonの基本文法\n",
    "# 中分類 演算子\n",
    "# 小分類\n",
    "# 特色　　\n",
    "# 参考　Python入門 - 演算子\n",
    "# 　　　　http://www.tohoho-web.com/python/operators.html\n",
    "\n",
    "def pause(accept_str):\n",
    "    accept_str = input(str(accept_str))\n",
    "    if accept_str == '0':\n",
    "        return\n",
    "    else:\n",
    "        return\n",
    "\n",
    "a = 'Ruby'\n",
    "b = 'Weiss'\n",
    "#b = 'Nora'\n",
    "RWBY = ['Ruby','Weiss','Blake','Yang']\n",
    "print('a = ',a)\n",
    "print('b = ',b)\n",
    "print('RWBY = ',RWBY)\n",
    "\n",
    "if ( (a in RWBY) and (b in RWBY)):\n",
    "    print('a {}も、b {}も、RWBYに含まれる'.format(a,b))\n",
    "else:\n",
    "    print('a {}か、b {}のどちら一方、もしくは両方はRWBYに含まれない'.format(a,b))"
   ]
  },
  {
   "cell_type": "markdown",
   "metadata": {},
   "source": [
    "### 条件演算(if else)\n",
    "下記の式は、c が真であれば x を、さもなくば y を返します。\n",
    "\n",
    "x if c else y"
   ]
  },
  {
   "cell_type": "code",
   "execution_count": null,
   "metadata": {},
   "outputs": [],
   "source": [
    "# Python-Operators6.py\n",
    "# coding: utf-8\n",
    "# 大分類 Pythonの基本文法\n",
    "# 中分類 演算子\n",
    "# 小分類\n",
    "# 特色　　\n",
    "# 参考　Python入門 - 演算子\n",
    "# 　　　　http://www.tohoho-web.com/python/operators.html\n",
    "\n",
    "def pause(accept_str):\n",
    "    accept_str = input(str(accept_str))\n",
    "    if accept_str == '0':\n",
    "        return\n",
    "    else:\n",
    "        return\n",
    "\n",
    "x = 'Ruby is RWBY'\n",
    "y = 'Ruby is JNPR'\n",
    "RWBY = ['Ruby','Weiss','Blake','Yang']\n",
    "c = 'Ruby' in RWBY\n",
    "# = 'Nora' in RWBY\n",
    "print('x if c else y = ',x if c else y)"
   ]
  },
  {
   "cell_type": "markdown",
   "metadata": {},
   "source": [
    "### 文字列演算(+, *, [n:m])\n",
    "文字列に対して下記の演算子が定義されています。文字数は 0文字から数えます。  \n",
    "n や m にマイナスの数を指定すると、文字列の後ろから数えます。  \n",
    "\n",
    "a + b         # 文字列 a と 文字列 b を連結します\n",
    "a * n         # 文字列 a を n 回繰り返します\n",
    "a[n]          # 文字列 a の中の n 番目の文字を取り出します\n",
    "a[n:m]        # 文字列 a の中の n 番目から m 番目までの文字列を取り出します\n",
    "a[n:]         # 文字列 a の中の n 番目から最後までの文字列を取り出します\n",
    "a[:m]         # 文字列 a の中の 0 番目から m 番目までの文字列を取り出します\n",
    "a[n:m:s]      # 文字列 a の中の n 番目から m 番目までの文字列を s個とばしで取り出します"
   ]
  },
  {
   "cell_type": "code",
   "execution_count": null,
   "metadata": {},
   "outputs": [],
   "source": [
    "# Python-Operators7.py\n",
    "# coding: utf-8\n",
    "# 大分類 Pythonの基本文法\n",
    "# 中分類 演算子\n",
    "# 小分類\n",
    "# 特色　　\n",
    "# 参考　Python入門 - 演算子\n",
    "# 　　　　http://www.tohoho-web.com/python/operators.html\n",
    "\n",
    "def pause(accept_str):\n",
    "    accept_str = input(str(accept_str))\n",
    "    if accept_str == '0':\n",
    "        return\n",
    "    else:\n",
    "        return\n",
    "\n",
    "a = 'Ruby'\n",
    "print ('a=',a)\n",
    "b = 'Weiss'\n",
    "print ('b=',b)\n",
    "pause('文字列連結')\n",
    "print('a+b=',a+b)\n",
    "pause('a を n 回繰り返します')\n",
    "print('a*3=',a*3)\n",
    "pause('文字列 a の中の (0から始めて)n 番目から m 番目の1つ前までの文字列を取り出します')\n",
    "print('a[1:3]',a[1:3])\n"
   ]
  }
 ],
 "metadata": {
  "kernelspec": {
   "display_name": "Python 3",
   "language": "python",
   "name": "python3"
  },
  "language_info": {
   "codemirror_mode": {
    "name": "ipython",
    "version": 3
   },
   "file_extension": ".py",
   "mimetype": "text/x-python",
   "name": "python",
   "nbconvert_exporter": "python",
   "pygments_lexer": "ipython3",
   "version": "3.6.5"
  }
 },
 "nbformat": 4,
 "nbformat_minor": 2
}
