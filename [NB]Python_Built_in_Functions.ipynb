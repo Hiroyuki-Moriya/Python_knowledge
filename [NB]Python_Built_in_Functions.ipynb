{
  "cells": [
    {
      "cell_type": "markdown",
      "metadata": {
        "id": "EvTYJ8D-Yeep"
      },
      "source": [
        "## Python 組み込み関数\n",
        "### Built-in Functions\n",
        "#### ただし抜粋。\n",
        "\n",
        "　[https://docs.python.jp/3/library/functions.html](https://docs.python.jp/3/library/functions.html)\n",
        " \n",
        "  [https://docs.python.org/ja/3.7/library/functions.html](https://docs.python.org/ja/3.7/library/functions.html)"
      ]
    },
    {
      "cell_type": "code",
      "execution_count": null,
      "metadata": {
        "id": "Nq6FSQbFYees",
        "outputId": "455c3f6b-eeb9-47b9-d3dc-5736436a31d6"
      },
      "outputs": [
        {
          "name": "stdout",
          "output_type": "stream",
          "text": [
            "1.5\n"
          ]
        }
      ],
      "source": [
        "# abs(x)\n",
        "# 数の絶対値を返します。引数は整数または浮動小数点数です。引数が複素数なら、その絶対値 (magnitude) が返されます。\n",
        "x = -1.5\n",
        "print(abs(x))"
      ]
    },
    {
      "cell_type": "code",
      "execution_count": null,
      "metadata": {
        "id": "Ci2pQl-iYeev",
        "outputId": "3a308612-dfc0-4461-9628-4b5ab49d412d"
      },
      "outputs": [
        {
          "name": "stdout",
          "output_type": "stream",
          "text": [
            "x1 True\n",
            "x2 False\n",
            "x3 True\n"
          ]
        }
      ],
      "source": [
        "# all(iterable)\n",
        "# iterable の全ての要素が真ならば (もしくは iterable が空ならば) True を返します。\n",
        "x1 = [True,True,True]\n",
        "print(\"x1\",all(x1))\n",
        "x2 = [True,True,False]\n",
        "print(\"x2\",all(x2))\n",
        "x3 = []\n",
        "print(\"x3\",all(x3))"
      ]
    },
    {
      "cell_type": "code",
      "execution_count": null,
      "metadata": {
        "id": "p-rk-C5EYeew",
        "outputId": "4f65df6d-9f55-4d1c-a90a-33d5598f3fba"
      },
      "outputs": [
        {
          "name": "stdout",
          "output_type": "stream",
          "text": [
            "x1 False\n",
            "x2 True\n",
            "x3 True\n"
          ]
        }
      ],
      "source": [
        "# any(iterable)\n",
        "# iterable のいずれかの要素が真ならば True を返します。iterable が空なら False を返します。\n",
        "x1 = [False,False,False]\n",
        "print(\"x1\",any(x1))\n",
        "x2 = [True,True,False]\n",
        "print(\"x2\",any(x2))\n",
        "x3 = []\n",
        "print(\"x3\",all(x3))"
      ]
    },
    {
      "cell_type": "code",
      "execution_count": null,
      "metadata": {
        "id": "q9QY-e6SYeew",
        "outputId": "11c70154-d310-47f4-a90b-52e05454feb5"
      },
      "outputs": [
        {
          "name": "stdout",
          "output_type": "stream",
          "text": [
            "x1 0b101\n",
            "x2 -0b11\n",
            "x1+x2 0b101-0b11 \n",
            "\n",
            "x3 0b1110\n",
            "x3 1110\n",
            "x4 0b1111\n",
            "x4 1111\n"
          ]
        }
      ],
      "source": [
        "# bin(x)\n",
        "# 整数を先頭に \"0b\" が付いた 2 進文字列に変換します。\n",
        "# 結果は Python の式としても使える形式になります。\n",
        "x1 = 5\n",
        "print(\"x1\",bin(x1))\n",
        "x2 = -3\n",
        "print(\"x2\",bin(x2))\n",
        "print(\"x1+x2\",bin(x1)+bin(x2),\"\\n\") # bin()の結果は文字列なので、値ではなく式が表示される\n",
        "\n",
        "# 先頭に \"0b\" が付いて欲しい、もしくは付いて欲しくない場合には、次の方法で使えます\n",
        "x3=14\n",
        "print(\"x3\",format(x3, '#b'))\n",
        "print(\"x3\",format(x3, 'b'))\n",
        "x4=15\n",
        "print(\"x4\",f'{x4:#b}')\n",
        "print(\"x4\",f'{x4:b}')\n"
      ]
    },
    {
      "cell_type": "code",
      "execution_count": null,
      "metadata": {
        "id": "9_idrZFdYeex",
        "outputId": "24827ea3-0cba-49e5-9d8f-6ff0e21ef42a"
      },
      "outputs": [
        {
          "name": "stdout",
          "output_type": "stream",
          "text": [
            "(2, 1)\n",
            "sho= 2 jyoyo= 1\n"
          ]
        }
      ],
      "source": [
        "# divmod(a, b)\n",
        "# 2 つの (複素数でない) 数を引数として取り、整数の除法を行ったときの商と剰余からなる対を返します。\n",
        "# 混合した被演算子型では、二項算術演算子での規則が適用されます。\n",
        "# 整数では、結果は (a // b, a % b) と同じです。\n",
        "# 浮動小数点数では、結果は (q, a % b) で、ここで q は通常 math.floor(a / b) ですが、それより 1 小さくなることもあります。\n",
        "# いずれにせよ、q * b + a % b は a に非常に近く、a % b がゼロでなければその符号は b と同じで、0 <= abs(a % b) < abs(b) です。\n",
        "\n",
        "a = 5\n",
        "b = 2\n",
        "print(divmod(a, b))\n",
        "sho = divmod(a, b)[0]\n",
        "jyoyo = divmod(a, b)[1]\n",
        "print(\"sho=\",sho,\"jyoyo=\",jyoyo)"
      ]
    },
    {
      "cell_type": "code",
      "execution_count": null,
      "metadata": {
        "id": "9uFer7DNYeey",
        "outputId": "df1945b5-d044-48ec-9f87-d0ef2b8e2628"
      },
      "outputs": [
        {
          "name": "stdout",
          "output_type": "stream",
          "text": [
            "x1 0xff\n",
            "x2 -0x7f\n",
            "x1+x2 0xff-0x7f \n",
            "\n",
            "x3 0x20\n",
            "x3 20\n",
            "x4 0x3f\n",
            "x4 3f\n"
          ]
        }
      ],
      "source": [
        "# hex(x)\n",
        "# 整数を先頭に \"0b\" が付いた 2 進文字列に変換します。\n",
        "x1 = 255\n",
        "print(\"x1\",hex(x1))\n",
        "x2 = -127\n",
        "print(\"x2\",hex(x2))\n",
        "print(\"x1+x2\",hex(x1)+hex(x2),\"\\n\") # hex()の結果は文字列なので、値ではなく式が表示される\n",
        "\n",
        "# 先頭に \"0x\" が付いて欲しい、もしくは付いて欲しくない場合には、次の方法で使えます\n",
        "x3 = 32\n",
        "print(\"x3\",format(x3, '#x'))\n",
        "print(\"x3\",format(x3, 'x'))\n",
        "x4 = 63\n",
        "print(\"x4\",f'{x4:#x}')\n",
        "print(\"x4\",f'{x4:x}')"
      ]
    },
    {
      "cell_type": "code",
      "execution_count": null,
      "metadata": {
        "id": "7ndAMjYgYeey",
        "outputId": "ab33de11-c6d6-4432-b044-c58a7325a355"
      },
      "outputs": [
        {
          "name": "stdout",
          "output_type": "stream",
          "text": [
            "x1 0\n",
            "x2 3\n"
          ]
        }
      ],
      "source": [
        "# len(s)\n",
        "# オブジェクトの長さ (要素の数) を返します。\n",
        "# 引数はシーケンス (文字列、バイト列、タプル、リスト、range 等) かコレクション (辞書、集合、凍結集合等) です。\n",
        "\n",
        "x1 = []\n",
        "print(\"x1\",len(x1))\n",
        "x2 = [True,True,False]\n",
        "print(\"x2\",len(x2))"
      ]
    },
    {
      "cell_type": "code",
      "execution_count": null,
      "metadata": {
        "id": "R1U8UIaRYeez",
        "outputId": "fe844574-4c8e-4672-8626-7a6084db0f2e"
      },
      "outputs": [
        {
          "name": "stdout",
          "output_type": "stream",
          "text": [
            "x1 7\n",
            "x2,x3,x4 7\n"
          ]
        }
      ],
      "source": [
        "# max(iterable, *[, key, default])\n",
        "# max(arg1, arg2, *args[, key])\n",
        "# iterable の中で最大の要素、または2つ以上の引数の中で最大のものを返します。\n",
        "x1 = [3,7,1]\n",
        "print(\"x1\",max(x1))\n",
        "x2 = 1\n",
        "x3 = 7\n",
        "x4 = 5\n",
        "print(\"x2,x3,x4\",max(x2,x3,x4))"
      ]
    },
    {
      "cell_type": "code",
      "execution_count": null,
      "metadata": {
        "id": "2HIgtBIfYee0",
        "outputId": "e0e71f69-5cb6-445f-dd34-930e18b059ca"
      },
      "outputs": [
        {
          "name": "stdout",
          "output_type": "stream",
          "text": [
            "x1 1\n",
            "x2,x3,x4 1\n"
          ]
        }
      ],
      "source": [
        "# min(iterable, *[, key, default])\n",
        "# min(arg1, arg2, *args[, key])\n",
        "# iterable の中で最小の要素、または2つ以上の引数の中で最小のものを返します\n",
        "x1 = [3,7,1]\n",
        "print(\"x1\",min(x1))\n",
        "x2 = 1\n",
        "x3 = 7\n",
        "x4 = 5\n",
        "print(\"x2,x3,x4\",min(x2,x3,x4))"
      ]
    },
    {
      "cell_type": "code",
      "execution_count": null,
      "metadata": {
        "id": "kFHL5lt4Yee1",
        "outputId": "f9961e33-e645-40e8-b2cd-904486eca865"
      },
      "outputs": [
        {
          "name": "stdout",
          "output_type": "stream",
          "text": [
            "x1 0o11\n",
            "x2 -0o7\n",
            "x1+x2 0o11-0o7 \n",
            "\n",
            "x3 0o21\n",
            "x3 21\n",
            "x4 0o17\n",
            "x4 17\n"
          ]
        }
      ],
      "source": [
        "# oct(x)\n",
        "# 整数を先頭に \"0o\" が付いた 8 進文字列に変換します。\n",
        "# 結果は Python の式としても使える形式になります。\n",
        "x1 = 9\n",
        "print(\"x1\",oct(x1))\n",
        "x2 = -7\n",
        "print(\"x2\",oct(x2))\n",
        "print(\"x1+x2\",oct(x1)+oct(x2),\"\\n\") # oct()の結果は文字列なので、値ではなく式が表示される\n",
        "\n",
        "# 整数を接頭辞の \"0o\" 付きや \"0o\" 無しの 8 進文字列に変換したい場合は、次に挙げる方法が使えます。\n",
        "x3 = 17\n",
        "print(\"x3\",format(x3, '#o'))\n",
        "print(\"x3\",format(x3, 'o'))\n",
        "x4 = 15\n",
        "print(\"x4\",f'{x4:#o}')\n",
        "print(\"x4\",f'{x4:o}')"
      ]
    },
    {
      "cell_type": "code",
      "execution_count": null,
      "metadata": {
        "id": "jXa_DRSCYee1",
        "outputId": "ef70efc6-bab5-44eb-ab52-5050b1fdd5da"
      },
      "outputs": [
        {
          "name": "stdout",
          "output_type": "stream",
          "text": [
            "pow(x, y)= 25\n",
            "pow(x, y,z)= 1\n"
          ]
        }
      ],
      "source": [
        "# pow(x, y[, z])\n",
        "# x の y 乗を返します; z があれば、x の y 乗に対する z の剰余を返します (pow(x, y) % z より効率よく計算されます)。\n",
        "# 二引数の形式 pow(x, y) は、冪乗演算子を使った x**y と等価です。\n",
        "x = 5\n",
        "y = 2\n",
        "print(\"pow(x, y)=\",pow(x, y))\n",
        "z = 3\n",
        "print(\"pow(x, y,z)=\",pow(x, y,z))\n"
      ]
    },
    {
      "cell_type": "code",
      "execution_count": null,
      "metadata": {
        "id": "82ok-VXMYee2",
        "outputId": "21934fb8-65e5-40ef-a71e-55a48dde6fd6"
      },
      "outputs": [
        {
          "name": "stdout",
          "output_type": "stream",
          "text": [
            "round(x1)= 5\n",
            "round(x2)= 6\n",
            "round(x3)= 5.5\n"
          ]
        }
      ],
      "source": [
        "# round(number[, ndigits])\n",
        "# number の小数部を ndigists 桁に丸めた値を返します。\n",
        "# ndigits が省略されたり、None だった場合、入力値に最も近い整数を返します。\n",
        "x1 = 5.2\n",
        "print(\"round(x1)=\",round(x1))\n",
        "x2 = 5.5\n",
        "print(\"round(x2)=\",round(x2))\n",
        "x3 = 5.49\n",
        "print(\"round(x3)=\",round(x3,1))"
      ]
    },
    {
      "cell_type": "code",
      "execution_count": null,
      "metadata": {
        "id": "GsNShrZTYee2",
        "outputId": "7dbdc334-9e6d-4afb-cefd-544c9b7032e8"
      },
      "outputs": [
        {
          "name": "stdout",
          "output_type": "stream",
          "text": [
            "x1,昇順 [1, 3, 7]\n",
            "x1,降順 [7, 3, 1]\n"
          ]
        }
      ],
      "source": [
        "# sorted(iterable, *, key=None, reverse=False)\n",
        "# iterable の要素を並べ替えた新たなリストを返します。\n",
        "x1 = [3,7,1]\n",
        "print(\"x1,昇順\",sorted(x1))\n",
        "print(\"x1,降順\",sorted(x1,reverse=True))\n"
      ]
    },
    {
      "cell_type": "code",
      "execution_count": null,
      "metadata": {
        "id": "8yYyU8CeYee3",
        "outputId": "9e0d5622-d611-497d-f777-72d6337d209e"
      },
      "outputs": [
        {
          "name": "stdout",
          "output_type": "stream",
          "text": [
            "sum(x1) 11\n"
          ]
        }
      ],
      "source": [
        "# sum(iterable[, start])\n",
        "# start と iterable の要素を左から右へ合計し、総和を返します。\n",
        "# start はデフォルトで 0 です。\n",
        "# iterable の要素は通常は数値で、start の値は文字列であってはなりません。\n",
        "x1 = [3,7,1]\n",
        "print(\"sum(x1)\",sum(x1))\n"
      ]
    },
    {
      "cell_type": "markdown",
      "source": [
        "## 文字列の値の種類を調べる関数\n",
        "[出典](https://science-log.com/python%E3%83%97%E3%83%AD%E3%82%B0%E3%83%A9%E3%83%9F%E3%83%B3%E3%82%B0tips%E9%9B%86/%E3%80%90python%E3%80%91%E6%96%87%E5%AD%97%E5%88%97%E3%81%8C%E6%95%B0%E5%80%A4%E3%81%8B%E3%81%A9%E3%81%86%E3%81%8B%E5%88%A4%E5%AE%9A%E3%81%99%E3%82%8B%E6%96%B9%E6%B3%95/)"
      ],
      "metadata": {
        "id": "vlBZt0rwUHgN"
      }
    },
    {
      "cell_type": "code",
      "source": [
        "for S1 in [\"0\", \"-5\", \"3.14\", \"apple\"]:\n",
        "  print(S1,\"str.isdecimal\",S1.isdecimal()) #文字列が十進数字か判定\n",
        "  print(S1,\"str.isdigit()\",S1.isdigit()) #文字列が数字か判定\n",
        "  print(S1,\"str.isnumeric()\",S1.isnumeric()) #文字列が数を表す文字か判定\n",
        "  print(S1,\"str.isalpha()\",S1.isalpha()) #文字列が英字か判定\n",
        "  print(S1,\"str.isalnum()\",S1.isalnum()) #文字列が英数字か判定\n",
        "  print(S1,\"str.isascii()\",S1.isascii()) #文字列がASCII文字か判定\n",
        "  print()\n",
        "\n",
        "S2 = input()\n",
        "print(\"str.isdecimal\",S2.isdecimal()) #文字列が十進数字か判定\n",
        "print(\"str.isdigit()\",S2.isdigit()) #文字列が数字か判定\n",
        "print(\"str.isnumeric()\",S2.isnumeric()) #文字列が数を表す文字か判定\n",
        "print(\"str.isalpha()\",S2.isalpha()) #文字列が英字か判定\n",
        "print(\"str.isalnum()\",S2.isalnum()) #文字列が英数字か判定\n",
        "print(\"str.isascii()\",S2.isascii()) #文字列がASCII文字か判定\n",
        "\n",
        "if S2.isdigit() == True:\n",
        "  print(S2 + \"は、数値です\")\n",
        "else:\n",
        "  print(S2 + \"は、数値ではありません\")\n",
        " "
      ],
      "metadata": {
        "colab": {
          "base_uri": "https://localhost:8080/"
        },
        "id": "VQZez23nPxgz",
        "outputId": "fcb3d224-6c69-47e0-dfb8-90805d60972a"
      },
      "execution_count": null,
      "outputs": [
        {
          "output_type": "stream",
          "name": "stdout",
          "text": [
            "0 str.isdecimal True\n",
            "0 str.isdigit() True\n",
            "0 str.isnumeric() True\n",
            "0 str.isalpha() False\n",
            "0 str.isalnum() True\n",
            "0 str.isascii() True\n",
            "\n",
            "-5 str.isdecimal False\n",
            "-5 str.isdigit() False\n",
            "-5 str.isnumeric() False\n",
            "-5 str.isalpha() False\n",
            "-5 str.isalnum() False\n",
            "-5 str.isascii() True\n",
            "\n",
            "3.14 str.isdecimal False\n",
            "3.14 str.isdigit() False\n",
            "3.14 str.isnumeric() False\n",
            "3.14 str.isalpha() False\n",
            "3.14 str.isalnum() False\n",
            "3.14 str.isascii() True\n",
            "\n",
            "apple str.isdecimal False\n",
            "apple str.isdigit() False\n",
            "apple str.isnumeric() False\n",
            "apple str.isalpha() True\n",
            "apple str.isalnum() True\n",
            "apple str.isascii() True\n",
            "\n",
            "123\n",
            "str.isdecimal True\n",
            "str.isdigit() True\n",
            "str.isnumeric() True\n",
            "str.isalpha() False\n",
            "str.isalnum() True\n",
            "str.isascii() True\n",
            "123は、数値です\n"
          ]
        }
      ]
    }
  ],
  "metadata": {
    "kernelspec": {
      "display_name": "Python 3",
      "language": "python",
      "name": "python3"
    },
    "language_info": {
      "codemirror_mode": {
        "name": "ipython",
        "version": 3
      },
      "file_extension": ".py",
      "mimetype": "text/x-python",
      "name": "python",
      "nbconvert_exporter": "python",
      "pygments_lexer": "ipython3",
      "version": "3.7.3"
    },
    "colab": {
      "provenance": []
    }
  },
  "nbformat": 4,
  "nbformat_minor": 0
}