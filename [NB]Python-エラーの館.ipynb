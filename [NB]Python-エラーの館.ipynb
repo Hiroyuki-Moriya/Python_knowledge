{
 "cells": [
  {
   "cell_type": "markdown",
   "metadata": {},
   "source": [
    "## Python-エラーの館\n",
    "\n",
    "[Pythonの基本的なエラー一覧とその原因の確認方法](https://note.nkmk.me/python-error-message/)\n",
    "\n",
    "* エラーと例外\n",
    "* エラーメッセージの読み方\n",
    "* 構文に関するエラー(syntax error / IndentationError)\n",
    "* インポートに関するエラー(ModuleNotFoundError / ImportError)\n",
    "* 型や値、名前に関するエラー(AttributeError / TypeError / ValueError / ZeroDivisionError / NameError)\n",
    "* インデックスやキーに関するエラー(IndexError / KeyError)\n",
    "* ファイルやディレクトリに関するエラー(FileNotFoundError / FileExistsError)\n",
    "\n"
   ]
  },
  {
   "cell_type": "markdown",
   "metadata": {},
   "source": [
    "### SyntaxError: invalid character in identifier\n",
    "```\n",
    "    elif　Member_Name == 'wyse':\n",
    "        　          ^\n",
    "SyntaxError: invalid character in identifier\n",
    "```\n",
    "原因は　Member_Nameと ==　の間に全角の空白が入っていたから"
   ]
  },
  {
   "cell_type": "markdown",
   "metadata": {},
   "source": [
    "### PermissionError: [Errno 13] Permission denied: '[NB]Python-File_2.csv'\n",
    "原因は、エディタで[NB]Python-File_2.csvを開いているのにFileOpenしようとしたから"
   ]
  },
  {
   "cell_type": "code",
   "execution_count": null,
   "metadata": {
    "collapsed": true
   },
   "outputs": [],
   "source": []
  }
 ],
 "metadata": {
  "kernelspec": {
   "display_name": "Python 3",
   "language": "python",
   "name": "python3"
  },
  "language_info": {
   "codemirror_mode": {
    "name": "ipython",
    "version": 3
   },
   "file_extension": ".py",
   "mimetype": "text/x-python",
   "name": "python",
   "nbconvert_exporter": "python",
   "pygments_lexer": "ipython3",
   "version": "3.6.5"
  }
 },
 "nbformat": 4,
 "nbformat_minor": 2
}
