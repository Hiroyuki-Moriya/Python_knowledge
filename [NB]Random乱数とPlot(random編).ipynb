{
  "nbformat": 4,
  "nbformat_minor": 0,
  "metadata": {
    "colab": {
      "provenance": []
    },
    "kernelspec": {
      "name": "python3",
      "display_name": "Python 3"
    },
    "language_info": {
      "name": "python"
    }
  },
  "cells": [
    {
      "cell_type": "markdown",
      "source": [
        "# randomモジュールで乱数を取り扱うには\n",
        "\n",
        "randomモジュールで定義されているrandint関数／randrange関数／random関数／uniform関数を使用して乱数を生成したり、乱数列を生成したりする方法を紹介する。\n",
        "\n",
        "[出典 解決！Python randomモジュールで乱数を取り扱うには](https://atmarkit.itmedia.co.jp/ait/articles/2209/06/news028.html)\n",
        "\n",
        "\n",
        "## randomモジュール\n",
        "　Pythonに標準で付属するrandomモジュールを使うと、整数や浮動点小数の乱数を生成したり、リストからランダムに要素を抽出したりできる。\n",
        "　本稿ではrandomモジュールが提供する以下の関数を使って整数と浮動点小数の乱数を生成する方法やリスト内包表記を使って乱数列を作成する方法を紹介する。\n",
        "\n",
        "* 整数乱数の生成：randint関数／randrange関数\n",
        "* 浮動点小数乱数の生成：random関数／uniform関数\n",
        "\n",
        "　なお上記の関数は実際にはrandomモジュールで定義されているRandomクラスのインスタンスメソッドとなっていて、randomモジュール内部でRandomクラスのインスタンスを生成した上で、各メソッドに別名を付け、それらを関数として使えるようにエクスポートしている。"
      ],
      "metadata": {
        "id": "ZBuHACjkpTmU"
      }
    },
    {
      "cell_type": "code",
      "execution_count": 2,
      "metadata": {
        "colab": {
          "base_uri": "https://localhost:8080/"
        },
        "id": "Surf4RDapCjY",
        "outputId": "380ff790-1467-4427-cb79-9773689234cd"
      },
      "outputs": [
        {
          "output_type": "stream",
          "name": "stdout",
          "text": [
            "0\n"
          ]
        }
      ],
      "source": [
        "import random\n",
        "from random import randint, randrange, random, uniform\n",
        "\n",
        "# 整数乱数の取得(1)\n",
        "num = randint(0, 5)  # 0～5の範囲の整数値をランダムに取得\n",
        "print(num)  # 2など\n",
        "\n"
      ]
    },
    {
      "cell_type": "code",
      "source": [
        "import random\n",
        "from random import randint, randrange, random, uniform\n",
        "\n",
        "# 整数乱数の取得(2)\n",
        "num = randrange(6)  # 0～5の範囲の整数値をランダムに取得\n",
        "print(num)  # 4など\n",
        "\n"
      ],
      "metadata": {
        "colab": {
          "base_uri": "https://localhost:8080/"
        },
        "id": "A5ZqwRL9qQLv",
        "outputId": "74a6e091-b0cc-4cc7-9fcc-3e00cd48a718"
      },
      "execution_count": 1,
      "outputs": [
        {
          "output_type": "stream",
          "name": "stdout",
          "text": [
            "2\n"
          ]
        }
      ]
    },
    {
      "cell_type": "code",
      "source": [
        "import random\n",
        "from random import randint, randrange, random, uniform\n",
        "\n",
        "# 整数乱数の取得(3)\n",
        "num = randrange(10, 21)  # 10～20の範囲の整数値をランダムに取得\n",
        "print(num)  # 15など\n",
        "\n"
      ],
      "metadata": {
        "colab": {
          "base_uri": "https://localhost:8080/"
        },
        "id": "JMKmG0EVqcjL",
        "outputId": "67b12b69-2124-4bd5-a341-58c23807cbeb"
      },
      "execution_count": 3,
      "outputs": [
        {
          "output_type": "stream",
          "name": "stdout",
          "text": [
            "16\n"
          ]
        }
      ]
    },
    {
      "cell_type": "code",
      "source": [
        "import random\n",
        "from random import randint, randrange, random, uniform\n",
        "\n",
        "# 整数乱数の取得(4)\n",
        "num = randrange(0, 11, 2)  # 0～10の範囲の偶数をランダムに取得\n",
        "print(num)  # 10など\n"
      ],
      "metadata": {
        "colab": {
          "base_uri": "https://localhost:8080/"
        },
        "id": "UVjzayK6qnZk",
        "outputId": "c613c30d-25c3-4566-de84-a054d592bab5"
      },
      "execution_count": 4,
      "outputs": [
        {
          "output_type": "stream",
          "name": "stdout",
          "text": [
            "10\n"
          ]
        }
      ]
    },
    {
      "cell_type": "code",
      "source": [
        "import random\n",
        "from random import randint, randrange, random, uniform\n",
        "\n",
        "# 実数乱数（浮動小数点数） (1)\n",
        "num = random()  # 0.0～1.0の範囲の実装値をランダムに取得\n",
        "print(num)  # 0.3291879801592166など\n"
      ],
      "metadata": {
        "colab": {
          "base_uri": "https://localhost:8080/"
        },
        "id": "Tl3KIg9_q6uT",
        "outputId": "0b88ec5e-65be-4967-abfe-7c21cb447e0d"
      },
      "execution_count": 5,
      "outputs": [
        {
          "output_type": "stream",
          "name": "stdout",
          "text": [
            "0.9569767758065342\n"
          ]
        }
      ]
    },
    {
      "cell_type": "code",
      "source": [
        "import random\n",
        "from random import randint, randrange, random, uniform\n",
        "\n",
        "# 実数乱数（浮動小数点数） (2)\n",
        "num = uniform(0.5, 1.6)  # 0.5～1.6の範囲の実数値をランダムに取得\n",
        "print(num)  # 1.389340380844763など\n"
      ],
      "metadata": {
        "colab": {
          "base_uri": "https://localhost:8080/"
        },
        "id": "CPICXPE-rCVn",
        "outputId": "6c780250-27f5-45ae-a18c-ddfe9778f7d3"
      },
      "execution_count": 6,
      "outputs": [
        {
          "output_type": "stream",
          "name": "stdout",
          "text": [
            "0.5119795358335433\n"
          ]
        }
      ]
    },
    {
      "cell_type": "code",
      "source": [
        "import random\n",
        "from random import randint, randrange, random, uniform\n",
        "\n",
        "# 乱数列の作成 (1)\n",
        "int_list = [randint(0, 10) for _ in range(10)]\n",
        "print(int_list)  # [1, 9, 6, 0, 0, 1, 3, 3, 8, 9]など\n"
      ],
      "metadata": {
        "colab": {
          "base_uri": "https://localhost:8080/"
        },
        "id": "iF4NDXcrrLo7",
        "outputId": "86d9913c-2a35-400c-f4cf-77ed92bd888e"
      },
      "execution_count": 7,
      "outputs": [
        {
          "output_type": "stream",
          "name": "stdout",
          "text": [
            "[10, 8, 9, 10, 8, 3, 10, 9, 6, 3]\n"
          ]
        }
      ]
    },
    {
      "cell_type": "code",
      "source": [
        "import random\n",
        "from random import randint, randrange, random, uniform\n",
        "\n",
        "# 乱数列の作成 (2)\n",
        "float_list = [uniform(0, 10) for _ in range(10)]\n",
        "print(float_list)"
      ],
      "metadata": {
        "colab": {
          "base_uri": "https://localhost:8080/"
        },
        "id": "fQEb52UurPev",
        "outputId": "725aac7d-af8b-49ea-f06a-99654764dec9"
      },
      "execution_count": 8,
      "outputs": [
        {
          "output_type": "stream",
          "name": "stdout",
          "text": [
            "[7.776520798559209, 4.779054615811446, 8.182716564285537, 8.04002361571121, 3.2808930859711136, 8.544382746429635, 5.635912323543643, 8.711275946617663, 7.481574064325889, 5.300821195055983]\n"
          ]
        }
      ]
    }
  ]
}