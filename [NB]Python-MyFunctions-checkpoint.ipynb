{
 "cells": [
  {
   "cell_type": "markdown",
   "metadata": {},
   "source": [
    "# [NB]Python-MyFunctions"
   ]
  },
  {
   "cell_type": "code",
   "execution_count": null,
   "metadata": {},
   "outputs": [],
   "source": [
    "# coding: utf-8\n",
    "# 自作関数\n",
    "# [NB]Python-MyFunctions\n",
    "# 大分類 Pythonの基本文法\n",
    "# 中分類 自作関数\n",
    "# 小分類 \n",
    "# 参考 \n",
    "# 特色 関数の使い方\n"
   ]
  },
  {
   "cell_type": "code",
   "execution_count": 5,
   "metadata": {},
   "outputs": [
    {
     "name": "stdout",
     "output_type": "stream",
     "text": [
      "Type in NG word:ngword\n",
      "Type in Check word:ngwordisthis\n",
      "NG\n"
     ]
    }
   ],
   "source": [
    "# coding: utf-8\n",
    "# 関数   gen(文字列,切り出し開始位置,切り出し文字長)  位置はゼロから開始\n",
    "# 戻り値 切り出した文字列\n",
    "def gen(word,startPosition,length):\n",
    "    re_word=word[startPosition:startPosition+length]\n",
    "    #print(word,startPosition,length,re_word)\n",
    "    return re_word\n",
    "\n",
    "\n",
    "W = input('Type in NG word:') #NG_word\n",
    "S = input('Type in Check word:') #Check_word\n",
    "lengthW = len(W)\n",
    "lengthS = len(S)\n",
    "result = \"OK\"\n",
    "if lengthS<lengthW:\n",
    "    result = \"OK\"\n",
    "elif S == W:\n",
    "    result = \"NG\"\n",
    "else:\n",
    "    for i in range(lengthS-lengthW+1):\n",
    "        if gen(S,i,lengthW)==W:\n",
    "            result = \"NG\"\n",
    "print(result)\n",
    "    "
   ]
  },
  {
   "cell_type": "code",
   "execution_count": 1,
   "metadata": {},
   "outputs": [
    {
     "name": "stdout",
     "output_type": "stream",
     "text": [
      "left_str( abcde 3 )\n",
      "abc\n",
      "right_str( abcde 3 )\n",
      "cde\n",
      "mid_str( , abcde , 2 , 3 )\n",
      "bcd\n",
      "drow_wen\n"
     ]
    }
   ],
   "source": [
    "# Python-String_manipulation.py\n",
    "# coding: utf-8\n",
    "# 大分類 文字列操作\n",
    "# 中分類 left関数,Right関数,Mid関数に似た振る舞いをする自作関数\n",
    "# 小分類\n",
    "#\n",
    "# 参考 Python文字列操作マスター\n",
    "#　　　https://qiita.com/tomotaka_ito/items/594ee1396cf982ba9887\n",
    "# 参考 Python入門 - 関数\n",
    "#　　　http://www.tohoho-web.com/python/function.html\n",
    "#     Python 標準ライブラリ\n",
    "#     https://docs.python.jp/3/library/\n",
    "\n",
    "# 文字列nの左[n=0]から指定長[l]の文字列[0:n+l]を返す\n",
    "# left_str(文字列n、取り出す文字列長l)\n",
    "def left_str(str_in,str_length):\n",
    "    if str_length > len(str_in):\n",
    "        return 'NG取り出す文字列長が長い'\n",
    "    else:\n",
    "        return str_in[0:str_length]\n",
    "\n",
    "# 文字列nの右[n=none]から指定長[l]の文字列[0-l:none]を返す\n",
    "# right_str(文字列n、取り出す文字列長l)\n",
    "def right_str(str_in,str_length):\n",
    "    if str_length > len(str_in):\n",
    "        return 'NG:取り出す文字列長が長い'\n",
    "    else:\n",
    "        return str_in[0-str_length:]\n",
    "\n",
    "# 文字列nの開始位置m[m-1]から指定長[l]の部分文字列[n-1:n-1+l]を返す\n",
    "# mid_str(文字列n、開始位置m,取り出す文字列長l)\n",
    "def mid_str(str_in,str_start,str_length):\n",
    "    if str_length > len(str_in):\n",
    "        return 'NG:取り出す文字列長が長い'\n",
    "    else:\n",
    "        return str_in[str_start-1:str_start-1+str_length]\n",
    "\n",
    "#引数の文字列を逆にする\n",
    "def Reverse(str_in):\n",
    "    str_rv = ''\n",
    "    for ri in range(len(str_in)):\n",
    "        str_rv = str_rv + str_in[len(str_in)-1-ri]\n",
    "    return str_rv\n",
    "\n",
    "#DEBUG\n",
    "str_in = 'abcde'\n",
    "str_length = 3\n",
    "print('left_str(',str_in,str_length,')')\n",
    "print (left_str(str_in,str_length))\n",
    "\n",
    "print('right_str(',str_in,str_length,')')\n",
    "print (right_str(str_in,str_length))\n",
    "\n",
    "str_start = 2\n",
    "print('mid_str(',',',str_in,',',str_start,',',str_length,')')\n",
    "print (mid_str(str_in,str_start,str_length))\n",
    "\n",
    "S  = 'new_word'\n",
    "print(Reverse(S))\n"
   ]
  },
  {
   "cell_type": "code",
   "execution_count": null,
   "metadata": {},
   "outputs": [],
   "source": []
  }
 ],
 "metadata": {
  "kernelspec": {
   "display_name": "Python 3",
   "language": "python",
   "name": "python3"
  },
  "language_info": {
   "codemirror_mode": {
    "name": "ipython",
    "version": 3
   },
   "file_extension": ".py",
   "mimetype": "text/x-python",
   "name": "python",
   "nbconvert_exporter": "python",
   "pygments_lexer": "ipython3",
   "version": "3.7.4"
  }
 },
 "nbformat": 4,
 "nbformat_minor": 2
}
