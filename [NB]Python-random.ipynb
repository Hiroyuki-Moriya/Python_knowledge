{
 "cells": [
  {
   "cell_type": "markdown",
   "metadata": {},
   "source": [
    "# [NB]Python-random.py"
   ]
  },
  {
   "cell_type": "code",
   "execution_count": null,
   "metadata": {},
   "outputs": [],
   "source": [
    "# coding: utf-8\n",
    "# randomモジュールと関数の使い方\n",
    "# [NB]Python-random\n",
    "# 大分類 Pythonの基本文法\n",
    "# 中分類 randomモジュールとその関数の勉強\n",
    "# 小分類 \n",
    "# 参考 Python入門編1 #6\n",
    "#       https://paiza.jp/works/python3/primer/beginner-python1/4005\n",
    "# 特色 乱数の作り方\n"
   ]
  },
  {
   "cell_type": "code",
   "execution_count": 1,
   "metadata": {},
   "outputs": [
    {
     "name": "stdout",
     "output_type": "stream",
     "text": [
      "乱数は0.8053417538321987です\n"
     ]
    }
   ],
   "source": [
    "# coding: utf-8\n",
    "# randomというモジュールをimportする\n",
    "import random\n",
    "# ゼロから1までの乱数ならば、randomモジュールのrandom()関数を使う。\n",
    "# モジュール名と関数名がピリオドでつながり、ここで使われるrandom関数の引数はないので、random.random()となる。\n",
    "# random関数の戻り値は変数number1に格納される。\n",
    "number1 = random.random() \n",
    "print(\"乱数は\"+str(number1)+\"です\") # 文字列と数値の連結をするときはstr()関数で数値→文字変換をしないと、+が連結でなく加算と判定されてエラーになる\n"
   ]
  },
  {
   "cell_type": "code",
   "execution_count": 3,
   "metadata": {},
   "outputs": [
    {
     "name": "stdout",
     "output_type": "stream",
     "text": [
      "乱数は57です\n"
     ]
    }
   ],
   "source": [
    "# coding: utf-8\n",
    "# 整数\n",
    "import random\n",
    "# 1から100までの乱数ならば、randomモジュールのrandint()関数を使う\n",
    "# モジュール名と関数名がピリオドでつながり、ここで使われるrandint関数の引数は、開始値、終了値なので、random.randint(1,100)となる。\n",
    "# randint関数の戻り値は変数number2に格納される。\n",
    "number2 = random.randint(1,100) \n",
    "print(\"乱数は\"+str(number2)+\"です\")\n"
   ]
  },
  {
   "cell_type": "code",
   "execution_count": 4,
   "metadata": {},
   "outputs": [
    {
     "name": "stdout",
     "output_type": "stream",
     "text": [
      "乱数は12です\n"
     ]
    }
   ],
   "source": [
    "# coding: utf-8\n",
    "import random\n",
    "# randint関数の引数は、開始値、終了値なので、これを変えると乱数の範囲が変わるrandom.randint(10,20)となる。\n",
    "number3 = random.randint(10,20) # 10から20までの乱数\n",
    "print(\"乱数は\"+str(number3)+\"です\")"
   ]
  },
  {
   "cell_type": "code",
   "execution_count": null,
   "metadata": {},
   "outputs": [],
   "source": []
  }
 ],
 "metadata": {
  "kernelspec": {
   "display_name": "Python 3",
   "language": "python",
   "name": "python3"
  },
  "language_info": {
   "codemirror_mode": {
    "name": "ipython",
    "version": 3
   },
   "file_extension": ".py",
   "mimetype": "text/x-python",
   "name": "python",
   "nbconvert_exporter": "python",
   "pygments_lexer": "ipython3",
   "version": "3.7.3"
  }
 },
 "nbformat": 4,
 "nbformat_minor": 2
}
