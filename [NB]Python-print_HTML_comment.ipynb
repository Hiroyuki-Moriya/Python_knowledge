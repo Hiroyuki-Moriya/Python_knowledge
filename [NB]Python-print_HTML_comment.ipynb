{
 "cells": [
  {
   "cell_type": "markdown",
   "metadata": {},
   "source": [
    "# Python-print&HTML&comment.py"
   ]
  },
  {
   "cell_type": "code",
   "execution_count": null,
   "metadata": {},
   "outputs": [],
   "source": [
    "# coding: utf-8\n",
    "# print関数の使い方、print関数でHTMLの出力、ついでにコメントの使い方\n",
    "# [NB]Python-print&HTML&comment.py\n",
    "# 大分類 Pythonの基本文法\n",
    "# 中分類 print、コメントの勉強\n",
    "# 小分類 \n",
    "# 参考 Python入門編1 #4\n",
    "#       https://paiza.jp/works/python3/primer/beginner-python1/4003\n",
    "# 特色 HTMLの出力\n"
   ]
  },
  {
   "cell_type": "code",
   "execution_count": 1,
   "metadata": {},
   "outputs": [
    {
     "name": "stdout",
     "output_type": "stream",
     "text": [
      "Hello world1\n",
      "Hello world2\n",
      "Hello world3\n"
     ]
    }
   ],
   "source": [
    "# coding: utf-8\n",
    "# printは出力文字列の後ろに改行コードを入れる。\n",
    "# だからprintを３行書くと、出力も３行になる。\n",
    "print(\"Hello world1\")\n",
    "print(\"Hello world2\")\n",
    "print(\"Hello world3\")"
   ]
  },
  {
   "cell_type": "code",
   "execution_count": 6,
   "metadata": {},
   "outputs": [
    {
     "name": "stdout",
     "output_type": "stream",
     "text": [
      "Hello world1 Hello world2 Hello world3\n"
     ]
    }
   ],
   "source": [
    "# coding: utf-8\n",
    "# 改行したくない場合は、print1行のなかでカンマで並べれば1行になる。\n",
    "# ただし、各文字列の間に半角スペースが１個入っていることに注意。\n",
    "print(\"Hello world1\",\"Hello world2\",\"Hello world3\")"
   ]
  },
  {
   "cell_type": "code",
   "execution_count": 2,
   "metadata": {},
   "outputs": [
    {
     "name": "stdout",
     "output_type": "stream",
     "text": [
      "Hello world1Hello world2Hello world3"
     ]
    }
   ],
   "source": [
    "# coding: utf-8\n",
    "# print３行でも、行末を改行でなくヌルにすると、３行が1行になる。\n",
    "print(\"Hello world1\",end=\"\")\n",
    "print(\"Hello world2\",end=\"\")\n",
    "print(\"Hello world3\",end=\"\")"
   ]
  },
  {
   "cell_type": "code",
   "execution_count": 3,
   "metadata": {},
   "outputs": [
    {
     "name": "stdout",
     "output_type": "stream",
     "text": [
      "Hello world1%Hello world2%Hello world3%"
     ]
    }
   ],
   "source": [
    "# coding: utf-8\n",
    "# 応用として、行末を%にすると、%は区切り文字(デリミタ)になる。\n",
    "print(\"Hello world1\",end=\"%\")\n",
    "print(\"Hello world2\",end=\"%\")\n",
    "print(\"Hello world3\",end=\"%\")"
   ]
  },
  {
   "cell_type": "code",
   "execution_count": 4,
   "metadata": {},
   "outputs": [
    {
     "name": "stdout",
     "output_type": "stream",
     "text": [
      "<h1>Hello world1</h1>\n",
      "<p>こんにちは\n",
      "新たな<b>世界</b></p>\n"
     ]
    }
   ],
   "source": [
    "# coding: utf-8\n",
    "# printでHTMLを出力できる。\n",
    "# 方法はタグを書くだけ。\n",
    "# HTMOの表示テストは　https://hmaster.net/tagtest.html を使用\n",
    "print(\"<h1>Hello world1</h1>\")\n",
    "print(\"<p>こんにちは\")\n",
    "print(\"新たな<b>世界</b></p>\")"
   ]
  },
  {
   "cell_type": "code",
   "execution_count": 5,
   "metadata": {},
   "outputs": [
    {
     "name": "stdout",
     "output_type": "stream",
     "text": [
      "<h1>Hello world1</h1>\n",
      "<p>こんにちは\n",
      "新たな<b>世界</b></p>\n"
     ]
    }
   ],
   "source": [
    "# coding: utf-8\n",
    "# 3個のprintを1個で済ますこともできる。\n",
    "# 方法は３個の連続したシングルコーテーションを使う。\n",
    "print('''<h1>Hello world1</h1>\n",
    "<p>こんにちは\n",
    "新たな<b>世界</b></p>''')"
   ]
  },
  {
   "cell_type": "code",
   "execution_count": 8,
   "metadata": {},
   "outputs": [
    {
     "name": "stdout",
     "output_type": "stream",
     "text": [
      "Hello world1\n",
      "Hello world3\n",
      "Hello world4 #コメントにならない\n",
      "Hello world6\n"
     ]
    }
   ],
   "source": [
    "# coding: utf-8\n",
    "# コメントは、シャープ記号から行末までがコメントになる\n",
    "# ただし ダブルコーテーション内の#は文字列とみなされ、コメントとはならない\n",
    "# また複数行のコメントにするには３個の連続したシングルコーテーションを使う\n",
    "print(\"Hello world1\")\n",
    "#print(\"Hello world2\")\n",
    "print(\"Hello world3\") #コメントアウト\n",
    "print(\"Hello world4 #コメントにならない\")\n",
    "'''\n",
    "↑ここからコメント行が始まる\n",
    "print(\"Hello world5\")\n",
    "↓ここまでの間がすべてコメント行とみなされる\n",
    "'''\n",
    "print(\"Hello world6\")"
   ]
  }
 ],
 "metadata": {
  "kernelspec": {
   "display_name": "Python 3",
   "language": "python",
   "name": "python3"
  },
  "language_info": {
   "codemirror_mode": {
    "name": "ipython",
    "version": 3
   },
   "file_extension": ".py",
   "mimetype": "text/x-python",
   "name": "python",
   "nbconvert_exporter": "python",
   "pygments_lexer": "ipython3",
   "version": "3.7.3"
  }
 },
 "nbformat": 4,
 "nbformat_minor": 2
}
