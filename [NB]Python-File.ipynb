{
 "cells": [
  {
   "cell_type": "code",
   "execution_count": null,
   "metadata": {
    "collapsed": true
   },
   "outputs": [],
   "source": [
    "# Python-File.py\n",
    "# coding: utf-8\n",
    "# 大分類 ファイル操作\n",
    "# 中分類 ファイルを操作するメソッド\n",
    "# 小分類 \n",
    "# 特色　　\n",
    "# 参考　　　　\n",
    "\n",
    "# ★　追記などopenの種類、csv以外のテキスト出力についての記載が足りない"
   ]
  },
  {
   "cell_type": "markdown",
   "metadata": {},
   "source": [
    "## CSVファイルの取り扱い\n",
    " Python »  ドキュメント » Python 標準ライブラリ » 14. ファイルフォーマット » 14.1. csv — CSV ファイルの読み書き\n",
    " [https://docs.python.jp/3/library/csv.html](https://docs.python.jp/3/library/csv.html) \n",
    " \n",
    "  delimiter=','  \n",
    "  フィールド間を分割するのに用いられる 1 文字からなる文字列です。  \n",
    "  デフォルトでは ```','```\n",
    "\n",
    "  lineterminator='\\n'    \n",
    "  writer が作り出す各行を終端する際に用いられる文字列です。  \n",
    "  デフォルトでは ```'\\r\\n'```    \n",
    "\n",
    "  quotechar='\"'  \n",
    "  delimiter や quotechar といった特殊文字を含むか、  \n",
    "  改行文字を含むフィールドをクオートする(引用符でくくる)際に用いられる  \n",
    "  1 文字からなる文字列です。  \n",
    "  デフォルトでは ```'\"'```   "
   ]
  },
  {
   "cell_type": "code",
   "execution_count": null,
   "metadata": {},
   "outputs": [],
   "source": [
    "# 1レコード出力\n",
    "import csv\n",
    "Path = ''\n",
    "Filename = '[NB]Python-File_0.csv'\n",
    "Csvfile = open(Path+Filename, 'w', newline='',encoding='utf-8')\n",
    "writer = csv.writer(Csvfile,\n",
    "                    delimiter='|',\n",
    "                    lineterminator='\\n',\n",
    "                    quotechar='#')\n",
    "writer.writerow(['Ruby Rose','Weiss Schnee','Blake Belladonna','Yang |Xiao Long'])\n",
    "Csvfile.close()"
   ]
  },
  {
   "cell_type": "markdown",
   "metadata": {
    "collapsed": true
   },
   "source": [
    "### ＣＳＶファイルの書き出し\n",
    "\n",
    " Withを使えばcloseを書かなくてよいので、忘れ防止になる。  \n",
    "\n",
    " writerow(row)メソッドでrowにセットされた値を書き出す。  \n",
    " 変数rowはレコードとほぼ同義  \n",
    " 参考　https://techacademy.jp/magazine/15638\n"
   ]
  },
  {
   "cell_type": "code",
   "execution_count": null,
   "metadata": {},
   "outputs": [],
   "source": [
    "# 1レコード出力\n",
    "Data1 = 'Ruby Rose'\n",
    "Data2 = 'Weiss Schnee'\n",
    "Data3 = 'Blake Belladonna'\n",
    "Data4 = 'Yang Xiao Long'\n",
    "\n",
    "import csv\n",
    "Path = ''\n",
    "Filename = '[NB]Python-File_1.csv'\n",
    "with open(Path+Filename, 'w', newline='',encoding='utf-8') as Csvfile:\n",
    "    writer = csv.writer(Csvfile,lineterminator='\\n')\n",
    "    writer.writerow([Data1,Data2,Data3,Data4])\n",
    "\n",
    "# 4レコード出力\n",
    "Data_list = ['Ruby Rose','Weiss Schnee','Blake Belladonna','Yang Xiao Long']\n",
    "import csv\n",
    "Path = ''\n",
    "Filename = '[NB]Python-File_2.csv'\n",
    "with open(Path+Filename, 'w', newline='',encoding='utf-8') as Csvfile:\n",
    "    writer = csv.writer(Csvfile,lineterminator='\\n')\n",
    "    for Row in Data_list:\n",
    "        writer.writerow([Row])"
   ]
  },
  {
   "cell_type": "markdown",
   "metadata": {},
   "source": [
    "### CSVファイルの読み込み\n",
    "\n",
    " 参考　PythonでCSVの読み書きを行う方法【初心者向け】  \n",
    "      (https://techacademy.jp/magazine/15638)  \n"
   ]
  },
  {
   "cell_type": "code",
   "execution_count": null,
   "metadata": {},
   "outputs": [],
   "source": [
    "# 最も単純な例\n",
    "import csv\n",
    "Path = ''\n",
    "Filename = '[NB]Python-File_2.csv'\n",
    "with open(Path+Filename, newline='') as Csvfile:\n",
    "    reader = csv.reader(Csvfile)\n",
    "    for Row in reader:\n",
    "        print(Row)"
   ]
  },
  {
   "cell_type": "markdown",
   "metadata": {},
   "source": [
    "### CSVファイルの読み込み（例外処理）\n",
    "\n",
    " 参考　Python: ファイル読み込み時の例外の扱い例  \n",
    " 　　　　– try、except、else、finallyブロック  \n",
    "      (http://www.yukun.info/blog/2008/09/python-read-file-try-except-else-finally.html)  \n",
    "\n",
    " 参考　Python »  ドキュメント » Python 標準ライブラリ  \n",
    " 　　　　　　　» 14. ファイルフォーマット  \n",
    "        　　　» 14.1.5. 使用例  \n",
    "      https://docs.python.jp/3/library/csv.html"
   ]
  },
  {
   "cell_type": "code",
   "execution_count": null,
   "metadata": {},
   "outputs": [],
   "source": [
    "import csv,sys\n",
    "Path = ''\n",
    "Filename = '[NB]Python-File_2.csv' # 正常系は2.csv、エラー系はx.csvを使用\n",
    "with open(Path+Filename, newline='',encoding='utf-8') as Csvfile:\n",
    "    reader = csv.reader(Csvfile, delimiter=',', quotechar='\"')\n",
    "    try:\n",
    "        # ファイルがある場合の処理\n",
    "        for Row in reader:\n",
    "            print(Row)\n",
    "    except csv.Error as Csvfile_e:\n",
    "        # ファイルがない場合の処理。エラーメッセージ表示や初期値セットに利用できる\n",
    "        print('エラー発生')\n",
    "        sys.exit('file {}, line {}: {}'.format(filename, reader.line_num, Csvfile_e))"
   ]
  },
  {
   "cell_type": "markdown",
   "metadata": {},
   "source": [
    "### 実践的なCSVの入出力\n",
    "  writerow() １レコードずつ出力する  \n",
    "  writerows() リストの１要素（配列１個）を１レコードとして出力する。  \n",
    "  \n",
    "  注意　カンマで区切られていないレコードを作ると、自動的に文字の間にデリミタが入る\n",
    "  　　　例 DataX"
   ]
  },
  {
   "cell_type": "code",
   "execution_count": null,
   "metadata": {
    "scrolled": true
   },
   "outputs": [],
   "source": [
    "# 4レコード複数アイテム出力\n",
    "Data1 = ['Ruby Rose','15','Crescent Rose(クレセントローズ)']\n",
    "Data2 = ['Weiss Schnee','17','Myrtenaster(マーテンアスター)']\n",
    "Data3 = ['Blake Belladonna','17','Gambol Shroud(ギャンボル・シュラウド)']\n",
    "Data4 = ['Yang Xiao Long','17','Ember Celica(エンバー・セリカ)']\n",
    "\n",
    "Datalist = [['Jaune Arc','17','Crocea Mors(クロケア・モルス)'],\n",
    "            ['Nora Valkyrie','17','Maghnild(マグニイルド)\t'],\n",
    "            ['Pyrrha Nikos','17','Miló and Akoú (ミロ/アクオ)'],\n",
    "            ['Lie Ren','17','StormFlower(ストームフラワー)']]\n",
    "\n",
    "DataX = 'Glynda Goodwitch , ? , Riding crop(教鞭)'\n",
    "\n",
    "import csv\n",
    "Path = ''\n",
    "Filename = '[NB]Python-File_3.csv'\n",
    "with open(Path+Filename, 'w', newline='',encoding='utf-8') as Csvfile:\n",
    "    writer = csv.writer(Csvfile,\n",
    "                    delimiter=',',\n",
    "                    lineterminator='\\r\\n',\n",
    "                    quotechar='\"')\n",
    "    writer.writerow(Data1) # 単一行の書き込み\n",
    "    writer.writerow(Data2)\n",
    "    writer.writerow(Data3)\n",
    "    writer.writerow(Data4)\n",
    "\n",
    "    writer.writerows(Datalist) # 複数行(リストのリスト|テーブル)の書き込み\n",
    "\n",
    "    # 文字列内にはカンマがあっても、フィールドに区切られていないと、デリミタで分解される\n",
    "    writer.writerow(DataX)\n",
    "        \n",
    "# 4レコード複数アイテム入力\n",
    "import csv\n",
    "Path = ''\n",
    "Filename = '[NB]Python-File_3.csv'\n",
    "with open(Path+Filename, newline='',encoding='utf-8') as Csvfile:\n",
    "    reader = csv.reader(Csvfile,lineterminator='\\n')\n",
    "    for Row in reader:\n",
    "        Name = Row[0].replace(\"'\",\"\")  #値からシングルコーテーションをはずして、変数に代入する\n",
    "        Age = Row[1].replace(\"'\",\"\")\n",
    "        Weapon = Row[2].replace(\"'\",\"\")\n",
    "        print('名前は{}、年齢は{}、武器は{}'.format(Name,Age,Weapon))"
   ]
  },
  {
   "cell_type": "markdown",
   "metadata": {
    "collapsed": true
   },
   "source": [
    "## 一般的なファイルの取り扱い"
   ]
  },
  {
   "cell_type": "markdown",
   "metadata": {},
   "source": [
    "### open関数\n",
    "参考 [Python » ドキュメント » Python 標準ライブラリ　» 2. 組み込み関数](https://docs.python.jp/3/library/functions.html#open)\n",
    "\n",
    "参考 note.nkmk.me[Pythonでファイルの読み込み、書き込み（作成・追記）](https://note.nkmk.me/python-file-io-open-with/)  \n",
    "\n",
    "open(file, mode='r', buffering=-1, encoding=None, errors=None, newline=None, closefd=True, opener=None)\n",
    " file,  \n",
    " mode='r', 'r'読み込み(デフォルト) 'w'書き込み 'a'末尾追記 その他あり\n",
    " buffering=1,　説明省略  \n",
    " encoding='utf-8', 'shift_jis'  \n",
    "   その他のパラメータは[7.2.3. 標準エンコーディング](https://docs.python.jp/3/library/codecs.html#standard-encodings)参照  \n",
    " errors=None,  説明省略。エンコーディーングエラー発生時の取り扱い\n",
    " newline='', 説明省略。テキストモードで使用する。基本的に''が推奨されている  \n",
    " closefd=True,  説明省略。\n",
    " opener=None　説明省略。"
   ]
  },
  {
   "cell_type": "code",
   "execution_count": 29,
   "metadata": {},
   "outputs": [
    {
     "name": "stdout",
     "output_type": "stream",
     "text": [
      "withを使わないOPEN\n",
      "test data1\n",
      "\n",
      "encoding=utf-8\n",
      "\n",
      "withを使うOPEN\n",
      "test data1\n",
      "\n",
      "encoding=utf-8\n",
      "\n"
     ]
    }
   ],
   "source": [
    "# 組み込み関数open()\n",
    "\n",
    "# ファイル出力\n",
    "Filename = '[NB]Python-File1.txt'\n",
    "outFile = open(Filename,mode='w',encoding='utf-8')\n",
    "outFile.write('test data1\\n')  # 末尾に\\nをつけるのはテキストエディタで２行に見えるから\n",
    "outFile.write('encoding=utf-8\\n') \n",
    "outFile.close()\n",
    "# withを使わないOPENとファイル入力\n",
    "inFile = open(Filename,mode='r',encoding='utf-8')\n",
    "print('withを使わないOPEN')\n",
    "for Row in inFile:\n",
    "    print(Row)\n",
    "inFile.close()\n",
    "# withを使うOPENとファイル入力\n",
    "print('withを使うOPEN')\n",
    "with open(Filename,mode='r',encoding='utf-8') as inFile:\n",
    "    for Row in inFile:\n",
    "        print(Row)"
   ]
  },
  {
   "cell_type": "markdown",
   "metadata": {},
   "source": [
    "###  note.nkmk.me[Pythonでファイルの読み込み、書き込み（作成・追記）](https://note.nkmk.me/python-file-io-open-with/)\n",
    "*open(), withによるファイル読み書き（入出力）  \n",
    "・・エンコード指定: 引数encoding  \n",
    "*テキストファイルの読み込み  \n",
    "・・読み込み用でファイルオープン: 引数mode=r  \n",
    "・・ファイル全体を文字列として読み込み: read()  \n",
    "・・ファイル全体をリストとして読み込み: readlines()  \n",
    "・・ファイルを一行ずつ読み込み: readline()  \n",
    "*テキストファイルの書き込み（新規作成・上書き）  \n",
    "・・書き込み用でファイルオープン: 引数mode=w  \n",
    "・・文字列を書き込み: write()  \n",
    "・・リストを書き込み: writelines()  \n",
    "*ファイルが存在しない場合のみ書き込み（新規作成のみ）  \n",
    "・・新規作成専用でファイルオープン: 引数mode=x  \n",
    "・・ファイルの存在を確認してからオープン  \n",
    "*テキストファイルの書き込み（追記・挿入）  \n",
    "・・末尾に追記  \n",
    "・・先頭、途中に挿入  \n",
    "*バイナリファイルの読み書き"
   ]
  },
  {
   "cell_type": "code",
   "execution_count": null,
   "metadata": {},
   "outputs": [],
   "source": [
    "# 実用例　Lyrics.py\n",
    "# 歌詞の編集\n",
    "# <BR>は消すか改行にする。変換元ファイルが改行されているか否かは人が判断する。\n",
    "# <i>と</i>は消す\n",
    "# 入力ファイル名を指定し、変換をする。変換後のファイル名は、入力ファイル名に'_w'をサフィックスする\n",
    "\n",
    "Filename=\"01 Lyrics KISS Detroit Rock City.txt\" #Tips参照\n",
    "#Tips Pythonの文字列リテラルとクォート\n",
    "# Pythonの文字列リテラルを扱う際には、'シングルクォーテーション' と \"ダブルクォーテーション\" のいずれも使える。\n",
    "# Pythonの言語仕様上、上記2つの書き方は同一の意味を持つ。つまり\"abc\"も'abc'もどちらも同じ文字列として扱われる\n",
    "# したがって、コード内で統一されていればいずれを使ってもよい。\n",
    "# 一般的には「\"」が使われることがやや多いようだが、私は「'」を使用している。\n",
    "# 今回「\"」を使用したのは、曲の文字列にHeaven'sのようにシングルクォーテーションが入っていて、\n",
    "# そのままファイル名になっているケースに対応するため\n",
    "\n",
    "# 入力ファイルのオープン\n",
    "#inFilename = '01 Lyrics KISS Detroit Rock City.txt'\n",
    "inFilename = Filename\n",
    "inFile = open(inFilename,mode='r',encoding='utf-8')\n",
    "\n",
    "# 出力ファイルのオープン\n",
    "#outFilename = '01 Lyrics KISS Detroit Rock City_w.txt'\n",
    "outFilename = Filename.replace('.txt','_w.txt',1)\n",
    "outFile = open(outFilename,mode='w',encoding='utf-8')\n",
    "\n",
    "\n",
    "for Row in inFile:\n",
    "    BRcount=Row.count('<br>') #入力レコードに含まれた<br>の数を調べる\n",
    "    outRecord=Row.replace('<br>','',BRcount) #BRcountの数だけ<br>を取り去る\n",
    "    #outRecord=Row.replace('<br>','\\n',BRcount) #BRcountの数だけ<br>を改行に置き換える\n",
    "    outRecord=outRecord.replace('<i>','',Row.count('<i>')) #<i>の数だけ<i>を取り去る\n",
    "    outRecord=outRecord.replace('</i>','',Row.count('</i>')) #</i>の数だけ</i>を取り去る\n",
    "    #debug print('ORG=',Row,'CHG',outRecord)\n",
    "    outFile.write(outRecord)  # 末尾に\\nをつけるのはテキストエディタで２行に見えるから\n",
    "\n",
    "inFile.close()\n",
    "outFile.close()\n",
    "print('Conversion finished. Filename=',Filename)"
   ]
  }
 ],
 "metadata": {
  "kernelspec": {
   "display_name": "Python 3",
   "language": "python",
   "name": "python3"
  },
  "language_info": {
   "codemirror_mode": {
    "name": "ipython",
    "version": 3
   },
   "file_extension": ".py",
   "mimetype": "text/x-python",
   "name": "python",
   "nbconvert_exporter": "python",
   "pygments_lexer": "ipython3",
   "version": "3.7.3"
  }
 },
 "nbformat": 4,
 "nbformat_minor": 2
}
