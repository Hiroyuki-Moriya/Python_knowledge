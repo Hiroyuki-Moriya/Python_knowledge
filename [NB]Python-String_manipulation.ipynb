{
 "cells": [
  {
   "cell_type": "markdown",
   "metadata": {
    "collapsed": true
   },
   "source": [
    "## Python-String_manipulation.py\n",
    "* coding: utf-8\n",
    "* 大分類 文字列操作\n",
    "* 中分類 文字列を操作するメソッドとleft関数,Right関数,Mid関数に似た振る舞いをする自作関数\n",
    "* 小分類 \n",
    "* 特色　　\n",
    "* 参考　プログラミング超初心者が初心者になるためのPython入門(1)\n",
    "* 参考　[Python標準型ライブラリ](https://docs.python.org/ja/3.7/library/index.html)\n",
    "* 参考　[Python標準型ライブラリ＞組み込み型＞テキストシーケンス型＞文字列メソッド](https://docs.python.org/ja/3.7/library/stdtypes.html#string-methods)　　　　"
   ]
  },
  {
   "cell_type": "markdown",
   "metadata": {
    "collapsed": true
   },
   "source": [
    "### 文字列と文字列の連結(join)"
   ]
  },
  {
   "cell_type": "code",
   "execution_count": null,
   "metadata": {
    "collapsed": true
   },
   "outputs": [],
   "source": [
    "print('Hello','world')\n",
    "print('Hello'+'world')"
   ]
  },
  {
   "cell_type": "markdown",
   "metadata": {},
   "source": [
    "### 文字列の分解(split)"
   ]
  },
  {
   "cell_type": "code",
   "execution_count": null,
   "metadata": {
    "collapsed": true
   },
   "outputs": [],
   "source": [
    "print('Hello world'.split(' '))\n",
    "print('Hello world'.split('e'))\n",
    "print('Hello world'.split('l'))"
   ]
  },
  {
   "cell_type": "markdown",
   "metadata": {},
   "source": [
    "### 文字列の置換(replace)"
   ]
  },
  {
   "cell_type": "code",
   "execution_count": null,
   "metadata": {
    "collapsed": true
   },
   "outputs": [],
   "source": [
    "print('Hello world'.replace('o','A'))"
   ]
  },
  {
   "cell_type": "markdown",
   "metadata": {},
   "source": [
    "### 文字列の大文字・小文字変換(upper,lower)"
   ]
  },
  {
   "cell_type": "code",
   "execution_count": null,
   "metadata": {
    "collapsed": true
   },
   "outputs": [],
   "source": [
    "print('Hello world'.upper())\n",
    "print('Hello world'.lower())"
   ]
  },
  {
   "cell_type": "markdown",
   "metadata": {},
   "source": [
    "### メソッドの組み合わせ"
   ]
  },
  {
   "cell_type": "code",
   "execution_count": null,
   "metadata": {
    "collapsed": true
   },
   "outputs": [],
   "source": [
    "print('Hello wold. I am a robot.'.upper().split(' '))"
   ]
  },
  {
   "cell_type": "markdown",
   "metadata": {},
   "source": [
    "### 文字列を変数で扱う"
   ]
  },
  {
   "cell_type": "code",
   "execution_count": null,
   "metadata": {
    "collapsed": true
   },
   "outputs": [],
   "source": [
    "str_x = 'Hello world'\n",
    "print(str_x)\n",
    "print(str_x.upper())\n",
    "\n",
    "str_y = 'Hello','world'\n",
    "print(str_y)"
   ]
  },
  {
   "cell_type": "markdown",
   "metadata": {},
   "source": [
    "### 文字列操作 つなぐ、さがす、数える(join,fin,count)"
   ]
  },
  {
   "cell_type": "code",
   "execution_count": null,
   "metadata": {
    "collapsed": true
   },
   "outputs": [],
   "source": [
    "str_x1 = 'Hello world'\n",
    "print('元の文字列=',str_x1)\n",
    "str_x2 = str_x1.split(' ')\n",
    "print('空白で分離=',str_x2)\n",
    "str_y = ' '.join(str_x2)\n",
    "print('元を復元=',str_y)\n",
    "print('myで連結=','my'.join(str_x2))\n",
    "\n",
    "print('\\n元の文字列:',str_x1)\n",
    "print('eの位置=',str_x1.find('e'))\n",
    "print('wの位置=',str_x1.find('w'))\n",
    "print('lの位置=',str_x1.find('l'))\n",
    "\n",
    "print('\\n元の文字列=',str_x1)\n",
    "print('lの数=',str_x1.count('l'))\n",
    "print('llの数=',str_x1.count('ll'))"
   ]
  },
  {
   "cell_type": "markdown",
   "metadata": {},
   "source": [
    "### 文字列の一部を取り出す（インデクシング、スライシング）\n",
    "　インデクシング：文字列の後に[]と数値を書いて、文字列を取り出す  \n",
    "　スライシング：文字列の後に[はじめの数値:終わりの1個前の数値]を書いて、文字列を取り出す  \n",
    " \n",
    " 文字列を連続して取り出すときに、Pythonのスライシングでは\n",
    "前の数字の最後をそのまま使えるので、他の言語より楽"
   ]
  },
  {
   "cell_type": "code",
   "execution_count": null,
   "metadata": {
    "collapsed": true
   },
   "outputs": [],
   "source": [
    "str_x1 = 'Hello world'\n",
    "print('indexing  6=',str_x1[6])\n",
    "print('indexing -1=',str_x1[-1])\n",
    "\n",
    "print('slicing  1:4=',str_x1[1:4])\n",
    "print('slicing  4:7=',str_x1[4:7]) #スライシングは前の数字を使えるので、\n",
    "print('slicing 7:10=',str_x1[7:10]) #連続取り出しは他の言語より楽\n",
    "\n",
    "print('slicing   :4=',str_x1[ :4]) #数値を省略すると\n",
    "print('slicing  4: =',str_x1[4:]) #そこより前か後ろの全部が取り出せる"
   ]
  },
  {
   "cell_type": "markdown",
   "metadata": {},
   "source": [
    "### 文字列とクォーテーションマーク\n",
    " 文字列を囲う記号は、シングルもダブルでも構わない。  \n",
    " ダブルで囲えば、文字列内にシングルを使えるし、その逆もできる"
   ]
  },
  {
   "cell_type": "code",
   "execution_count": null,
   "metadata": {
    "collapsed": true,
    "scrolled": true
   },
   "outputs": [],
   "source": [
    "print(\"Hello 'REAL' world\")\n",
    "print('Hello \"REAL\" world')\n"
   ]
  },
  {
   "cell_type": "markdown",
   "metadata": {
    "collapsed": true
   },
   "source": [
    "### 文字列整形（フォーマット）\n",
    "  formatメソッドは、入れる場所を{}で示し、.format(入れたい文字列)　で行う  \n",
    "  formatメソッドは、カンマで区切って変数を複数入れられる  \n",
    "  formatメソッドは、{}の中にformatメソッドに入れた変数の番号を入れると、１つの変数を使いまわせる  \n",
    "  \n",
    "  formatメソッドと同じ使い方として {}の代わりに%s、入れたい文字列の代わりに %変数を使う  \n",
    "  %sは文字列を意味し、%dは数値を意味する  "
   ]
  },
  {
   "cell_type": "code",
   "execution_count": null,
   "metadata": {
    "collapsed": true
   },
   "outputs": [],
   "source": [
    "str_x='Ruby'\n",
    "print('I am {}'.format(str_x))\n",
    "str_y='Rose'\n",
    "print('I am {} {}'.format(str_x,str_y))\n",
    "print('Hi, My name is {0} {1}. First name is {0}.'.format(str_x,str_y))\n",
    "\n",
    "print()\n",
    "print('I am %s' %str_x)\n",
    "print('I am %s %s' %(str_x,str_y))\n",
    "int_year = 16\n",
    "print('I am %d years old' %(int_year))\n",
    "print('I am %s %s %d years old' %(str_x,str_y,int_year))"
   ]
  },
  {
   "cell_type": "markdown",
   "metadata": {},
   "source": [
    "### 文字列の整形表示（改行、center、ljust、rjust）\n",
    "  改行は　\\n  \n",
    "  左寄せは ljust(1行の桁数)  \n",
    "  中寄せは center(1行の桁数)  \n",
    "  右寄せは rjust(1行の桁数)  "
   ]
  },
  {
   "cell_type": "code",
   "execution_count": null,
   "metadata": {
    "collapsed": true
   },
   "outputs": [],
   "source": [
    "print('I am Ruby Rose.\\nI am happy.')\n",
    "print('I am Weiss Schnee.'.ljust(60))\n",
    "print('I am Blake Belladonna.'.center(60))\n",
    "print('I am Yang Xiao Long.'.rjust(60))"
   ]
  },
  {
   "cell_type": "code",
   "execution_count": null,
   "metadata": {
    "collapsed": true
   },
   "outputs": [],
   "source": [
    "# Python-String_manipulation.py\n",
    "# coding: utf-8\n",
    "# 大分類 文字列操作\n",
    "# 中分類 left関数,Right関数,Mid関数に似た振る舞いをする自作関数\n",
    "# 小分類\n",
    "#\n",
    "# 参考 Python文字列操作マスター\n",
    "#　　　https://qiita.com/tomotaka_ito/items/594ee1396cf982ba9887\n",
    "# 参考 Python入門 - 関数\n",
    "#　　　http://www.tohoho-web.com/python/function.html\n",
    "#     Python 標準ライブラリ\n",
    "#     https://docs.python.jp/3/library/\n",
    "\n",
    "# 文字列nの左[n=0]から指定長[l]の文字列[0:n+l]を返す\n",
    "# left_str(文字列n、取り出す文字列長l)\n",
    "def left_str(str_in,str_length):\n",
    "    if str_length > len(str_in):\n",
    "        return 'NG取り出す文字列長が長い'\n",
    "    else:\n",
    "        return str_in[0:str_length]\n",
    "\n",
    "# 文字列nの右[n=none]から指定長[l]の文字列[0-l:none]を返す\n",
    "# right_str(文字列n、取り出す文字列長l)\n",
    "def right_str(str_in,str_length):\n",
    "    if str_length > len(str_in):\n",
    "        return 'NG:取り出す文字列長が長い'\n",
    "    else:\n",
    "        return str_in[0-str_length:]\n",
    "\n",
    "# 文字列nの開始位置m[m-1]から指定長[l]の部分文字列[n-1:n-1+l]を返す\n",
    "# mid_str(文字列n、開始位置m,取り出す文字列長l)\n",
    "def mid_str(str_in,str_start,str_length):\n",
    "    if str_length > len(str_in):\n",
    "        return 'NG:取り出す文字列長が長い'\n",
    "    else:\n",
    "        return str_in[str_start-1:str_start-1+str_length]\n",
    "\n",
    "#引数の文字列を逆にする\n",
    "def Reverse(str_in):\n",
    "    str_rv = ''\n",
    "    for ri in range(len(str_in)):\n",
    "        str_rv = str_rv + str_in[len(str_in)-1-ri]\n",
    "    return str_rv\n",
    "\n",
    "#DEBUG\n",
    "str_in = 'abcde'\n",
    "str_length = 3\n",
    "print('left_str(',str_in,str_length,')')\n",
    "print (left_str(str_in,str_length))\n",
    "\n",
    "print('right_str(',str_in,str_length,')')\n",
    "print (right_str(str_in,str_length))\n",
    "\n",
    "str_start = 2\n",
    "print('mid_str(',',',str_in,',',str_start,',',str_length,')')\n",
    "print (mid_str(str_in,str_start,str_length))\n",
    "\n",
    "S  = 'new_word'\n",
    "print(Reverse(S))\n"
   ]
  }
 ],
 "metadata": {
  "kernelspec": {
   "display_name": "Python 3",
   "language": "python",
   "name": "python3"
  },
  "language_info": {
   "codemirror_mode": {
    "name": "ipython",
    "version": 3
   },
   "file_extension": ".py",
   "mimetype": "text/x-python",
   "name": "python",
   "nbconvert_exporter": "python",
   "pygments_lexer": "ipython3",
   "version": "3.7.4"
  }
 },
 "nbformat": 4,
 "nbformat_minor": 2
}
